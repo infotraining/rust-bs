{
 "cells": [
  {
   "cell_type": "markdown",
   "metadata": {},
   "source": [
    "# Enums"
   ]
  },
  {
   "cell_type": "markdown",
   "metadata": {},
   "source": [
    "## C-Style Enums"
   ]
  },
  {
   "cell_type": "code",
   "execution_count": 9,
   "metadata": {
    "vscode": {
     "languageId": "rust"
    }
   },
   "outputs": [
    {
     "name": "stdout",
     "output_type": "stream",
     "text": [
      "direction = North\n"
     ]
    }
   ],
   "source": [
    "#[derive(Debug)]\n",
    "enum Compass {\n",
    "    North,\n",
    "    East,\n",
    "    South,\n",
    "    West\n",
    "}\n",
    "\n",
    "let direction = Compass::North;\n",
    "\n",
    "println!(\"direction = {:?}\", direction);"
   ]
  },
  {
   "cell_type": "markdown",
   "metadata": {},
   "source": [
    "* In memory, values of C-style enums are stored as integers. "
   ]
  },
  {
   "cell_type": "code",
   "execution_count": 10,
   "metadata": {
    "vscode": {
     "languageId": "rust"
    }
   },
   "outputs": [],
   "source": [
    "use std::mem::size_of;\n",
    "\n",
    "assert!(size_of::<Compass>() == 1);"
   ]
  },
  {
   "cell_type": "markdown",
   "metadata": {},
   "source": [
    "### Importing constructors"
   ]
  },
  {
   "cell_type": "code",
   "execution_count": 11,
   "metadata": {
    "vscode": {
     "languageId": "rust"
    }
   },
   "outputs": [],
   "source": [
    "use self::Compass::*; // self - when enum type is defined in current module; otherwise name of a module\n",
    "\n",
    "let direction = North;"
   ]
  },
  {
   "cell_type": "markdown",
   "metadata": {},
   "source": [
    "### Using Integral Values"
   ]
  },
  {
   "cell_type": "code",
   "execution_count": 12,
   "metadata": {
    "vscode": {
     "languageId": "rust"
    }
   },
   "outputs": [],
   "source": [
    "#[derive(Debug)]\n",
    "enum HttpStatus {\n",
    "    Ok = 200,\n",
    "    NotModified = 304,\n",
    "    NotFound = 404\n",
    "}\n",
    "\n",
    "assert!(size_of::<HttpStatus>() == 2);\n"
   ]
  },
  {
   "cell_type": "markdown",
   "metadata": {},
   "source": [
    "### Casting to Integer"
   ]
  },
  {
   "cell_type": "code",
   "execution_count": 13,
   "metadata": {
    "vscode": {
     "languageId": "rust"
    }
   },
   "outputs": [],
   "source": [
    "let ok_code = HttpStatus::Ok as i32;\n",
    "assert!(ok_code == 200);\n",
    "\n",
    "assert!(HttpStatus::NotFound as i32 == 404);"
   ]
  },
  {
   "cell_type": "markdown",
   "metadata": {},
   "source": [
    "### Casting from Integer"
   ]
  },
  {
   "cell_type": "code",
   "execution_count": 14,
   "metadata": {
    "vscode": {
     "languageId": "rust"
    }
   },
   "outputs": [],
   "source": [
    "fn http_status_from_u32(status: u32) -> Option<HttpStatus> {\n",
    "    match status {\n",
    "        200 => Some(HttpStatus::Ok),\n",
    "        304 => Some(HttpStatus::NotModified),\n",
    "        404 => Some(HttpStatus::NotFound),\n",
    "        _ => None\n",
    "    }\n",
    "}"
   ]
  },
  {
   "cell_type": "code",
   "execution_count": 15,
   "metadata": {
    "vscode": {
     "languageId": "rust"
    }
   },
   "outputs": [
    {
     "data": {
      "text/plain": [
       "Some(NotFound)"
      ]
     },
     "execution_count": 15,
     "metadata": {},
     "output_type": "execute_result"
    }
   ],
   "source": [
    "http_status_from_u32(404)"
   ]
  },
  {
   "cell_type": "markdown",
   "metadata": {},
   "source": [
    "### Deriving From Common Traits\n",
    "\n",
    "* As with structs, the compiler will implement features like the `==` operator for you, but you have to ask."
   ]
  },
  {
   "cell_type": "code",
   "execution_count": 16,
   "metadata": {
    "vscode": {
     "languageId": "rust"
    }
   },
   "outputs": [],
   "source": [
    "#[derive(Copy, Clone, Debug, PartialEq)]\n",
    "enum TimeUnit {\n",
    "    Seconds, Minutes, Hours, Days, Months, Years\n",
    "}"
   ]
  },
  {
   "cell_type": "code",
   "execution_count": 17,
   "metadata": {
    "vscode": {
     "languageId": "rust"
    }
   },
   "outputs": [],
   "source": [
    "assert!(TimeUnit::Seconds == TimeUnit::Seconds);"
   ]
  },
  {
   "cell_type": "markdown",
   "metadata": {},
   "source": [
    "### Implementing Methods for Enums"
   ]
  },
  {
   "cell_type": "code",
   "execution_count": 18,
   "metadata": {
    "vscode": {
     "languageId": "rust"
    }
   },
   "outputs": [],
   "source": [
    "impl TimeUnit {\n",
    "    /// Return the plural noun for this time unit.\n",
    "    fn plural(self) -> &'static str {\n",
    "        match self {\n",
    "            TimeUnit::Seconds => \"seconds\",\n",
    "            TimeUnit::Minutes => \"minutes\",\n",
    "            TimeUnit::Hours => \"hours\",\n",
    "            TimeUnit::Days => \"days\",\n",
    "            TimeUnit::Months => \"months\",\n",
    "            TimeUnit::Years => \"years\"\n",
    "        }\n",
    "    }\n",
    "\n",
    "    /// Return the singular noun for this time unit.\n",
    "    fn singular(self) -> &'static str {\n",
    "        self.plural().trim_right_matches('s')\n",
    "    }\n",
    "}"
   ]
  },
  {
   "cell_type": "code",
   "execution_count": 19,
   "metadata": {
    "vscode": {
     "languageId": "rust"
    }
   },
   "outputs": [
    {
     "data": {
      "text/plain": [
       "\"days\""
      ]
     },
     "execution_count": 19,
     "metadata": {},
     "output_type": "execute_result"
    }
   ],
   "source": [
    "let time_unit = TimeUnit::Days;\n",
    "\n",
    "time_unit.plural()"
   ]
  },
  {
   "cell_type": "markdown",
   "metadata": {},
   "source": [
    "## Enums With Data"
   ]
  },
  {
   "cell_type": "code",
   "execution_count": 20,
   "metadata": {
    "vscode": {
     "languageId": "rust"
    }
   },
   "outputs": [],
   "source": [
    "#[derive(Clone, Debug, PartialEq)]\n",
    "enum Message {\n",
    "    Quit, // no data associated\n",
    "    Move{ x: i32, y: i32 }, // named fields - like a struct\n",
    "    Write(String), // single String\n",
    "    ChangeColor(i32, i32, i32) // tuple struct of three values\n",
    "}"
   ]
  },
  {
   "cell_type": "code",
   "execution_count": 21,
   "metadata": {
    "vscode": {
     "languageId": "rust"
    }
   },
   "outputs": [
    {
     "name": "stdout",
     "output_type": "stream",
     "text": [
      "msg = Quit\n",
      "msg = Move { x: 100, y: 200 }\n",
      "msg = Write(\"TEXT\")\n",
      "msg = ChangeColor(255, 0, 255)\n"
     ]
    }
   ],
   "source": [
    "let mut msg = Message::Quit;\n",
    "println!(\"msg = {:?}\", msg);\n",
    "\n",
    "msg = Message::Move{ x: 100, y: 200};\n",
    "println!(\"msg = {:?}\", msg);\n",
    "\n",
    "msg = Message::Write(String::from(\"TEXT\"));\n",
    "println!(\"msg = {:?}\", msg);\n",
    "\n",
    "msg = Message::ChangeColor(255, 0, 255);\n",
    "println!(\"msg = {:?}\", msg);"
   ]
  },
  {
   "cell_type": "code",
   "execution_count": 22,
   "metadata": {
    "vscode": {
     "languageId": "rust"
    }
   },
   "outputs": [],
   "source": [
    "impl Message {\n",
    "    fn call(&self) {\n",
    "        match *self {\n",
    "            Message::Quit => println!(\"Quit\"),\n",
    "            Message::Move{ x, y } => println!(\"Move to x={}, y={}\", x, y),\n",
    "            Message::Write(ref text) => println!(\"Write '{}'\", text),\n",
    "            Message::ChangeColor(r, g, b) => println!(\"Change color to r={}, g={}, b={}\", r, g, b)\n",
    "        }\n",
    "    }\n",
    "}"
   ]
  },
  {
   "cell_type": "code",
   "execution_count": 23,
   "metadata": {
    "vscode": {
     "languageId": "rust"
    }
   },
   "outputs": [
    {
     "name": "stdout",
     "output_type": "stream",
     "text": [
      "Change color to r=255, g=0, b=255\n"
     ]
    }
   ],
   "source": [
    "msg.call();"
   ]
  },
  {
   "cell_type": "markdown",
   "metadata": {},
   "source": [
    "## Generic Enums"
   ]
  },
  {
   "cell_type": "markdown",
   "metadata": {},
   "source": [
    "### Option"
   ]
  },
  {
   "cell_type": "code",
   "execution_count": null,
   "metadata": {
    "vscode": {
     "languageId": "rust"
    }
   },
   "outputs": [],
   "source": [
    "enum Option<T> {\n",
    "    None,\n",
    "    Some(T)\n",
    "}"
   ]
  },
  {
   "cell_type": "markdown",
   "metadata": {},
   "source": [
    "### Result"
   ]
  },
  {
   "cell_type": "code",
   "execution_count": null,
   "metadata": {
    "vscode": {
     "languageId": "rust"
    }
   },
   "outputs": [],
   "source": [
    "enum Result<T, E> { \n",
    "    Ok(T), \n",
    "    Err(E) \n",
    "} "
   ]
  },
  {
   "cell_type": "markdown",
   "metadata": {},
   "source": [
    "### Real-World Example - BinaryTree"
   ]
  },
  {
   "cell_type": "code",
   "execution_count": 25,
   "metadata": {
    "vscode": {
     "languageId": "rust"
    }
   },
   "outputs": [],
   "source": [
    "// An ordered collection of `T`s.\n",
    "enum BinaryTree<T> {\n",
    "    Empty,\n",
    "    NonEmpty(Box<TreeNode<T>>)\n",
    "}\n",
    "\n",
    "// A part of a BinaryTree.\n",
    "struct TreeNode<T> {\n",
    "    element: T,\n",
    "    left: BinaryTree<T>,\n",
    "    right: BinaryTree<T>\n",
    "}"
   ]
  },
  {
   "cell_type": "code",
   "execution_count": 26,
   "metadata": {
    "vscode": {
     "languageId": "rust"
    }
   },
   "outputs": [],
   "source": [
    "use self::BinaryTree::*;\n",
    "\n",
    "let jupyter_tree = NonEmpty(Box::new(TreeNode {\n",
    "    element: \"Jupyter\",\n",
    "    left: Empty,\n",
    "    right: Empty\n",
    "}));\n",
    "\n",
    "let mercury_tree = NonEmpty(Box::new(TreeNode {\n",
    "    element: \"Jupyter\",\n",
    "    left: Empty,\n",
    "    right: Empty\n",
    "}));\n",
    "\n",
    "let venus_tree = NonEmpty(Box::new(TreeNode {\n",
    "    element: \"Jupyter\",\n",
    "    left: Empty,\n",
    "    right: Empty\n",
    "}));\n",
    "\n",
    "let mars_tree = NonEmpty(Box::new(TreeNode {\n",
    "    element: \"Saturn\",\n",
    "    left: jupyter_tree,\n",
    "    right: mercury_tree\n",
    "}));\n",
    "\n",
    "let uranus_tree = NonEmpty(Box::new(TreeNode {\n",
    "    element: \"Mars\",\n",
    "    left: Empty,\n",
    "    right: venus_tree\n",
    "}));\n",
    "\n",
    "// the root\n",
    "let saturn_tree = NonEmpty(Box::new(TreeNode {\n",
    "    element: \"Saturn\",\n",
    "    left: mars_tree,\n",
    "    right: uranus_tree\n",
    "}));"
   ]
  },
  {
   "cell_type": "markdown",
   "metadata": {},
   "source": [
    "## Patterns"
   ]
  },
  {
   "cell_type": "code",
   "execution_count": 30,
   "metadata": {
    "vscode": {
     "languageId": "rust"
    }
   },
   "outputs": [],
   "source": [
    "enum RoughTime {\n",
    "    InThePast(TimeUnit, u32),\n",
    "    JustNow,\n",
    "    InTheFuture(TimeUnit, u32)\n",
    "}"
   ]
  },
  {
   "cell_type": "code",
   "execution_count": 35,
   "metadata": {
    "vscode": {
     "languageId": "rust"
    }
   },
   "outputs": [],
   "source": [
    "fn rough_time_to_english(rt: RoughTime) -> String {\n",
    "    match rt {\n",
    "        RoughTime::InThePast(units, 1) => format!(\"{} ago\", units.singular()),\n",
    "        RoughTime::InThePast(units, count) => format!(\"{} {} ago\", count, units.plural()),\n",
    "        RoughTime::JustNow => format!(\"just now\"),\n",
    "        RoughTime::InTheFuture(units, 1) => format!(\"{} from now\", units.singular()),  \n",
    "        RoughTime::InTheFuture(units, count) => format!(\"{} {} from now\", count, units.plural())  \n",
    "    }\n",
    "}"
   ]
  },
  {
   "cell_type": "code",
   "execution_count": 38,
   "metadata": {
    "vscode": {
     "languageId": "rust"
    }
   },
   "outputs": [
    {
     "data": {
      "text/plain": [
       "\"second ago\""
      ]
     },
     "execution_count": 38,
     "metadata": {},
     "output_type": "execute_result"
    }
   ],
   "source": [
    "rough_time_to_english(RoughTime::InThePast(TimeUnit::Seconds, 1))"
   ]
  },
  {
   "cell_type": "code",
   "execution_count": 39,
   "metadata": {
    "vscode": {
     "languageId": "rust"
    }
   },
   "outputs": [
    {
     "data": {
      "text/plain": [
       "\"42 seconds ago\""
      ]
     },
     "execution_count": 39,
     "metadata": {},
     "output_type": "execute_result"
    }
   ],
   "source": [
    "rough_time_to_english(RoughTime::InThePast(TimeUnit::Seconds, 42))"
   ]
  },
  {
   "cell_type": "code",
   "execution_count": 40,
   "metadata": {
    "vscode": {
     "languageId": "rust"
    }
   },
   "outputs": [
    {
     "data": {
      "text/plain": [
       "\"just now\""
      ]
     },
     "execution_count": 40,
     "metadata": {},
     "output_type": "execute_result"
    }
   ],
   "source": [
    "rough_time_to_english(RoughTime::JustNow)"
   ]
  },
  {
   "cell_type": "code",
   "execution_count": 41,
   "metadata": {
    "vscode": {
     "languageId": "rust"
    }
   },
   "outputs": [
    {
     "data": {
      "text/plain": [
       "\"42 seconds from now\""
      ]
     },
     "execution_count": 41,
     "metadata": {},
     "output_type": "execute_result"
    }
   ],
   "source": [
    "rough_time_to_english(RoughTime::InTheFuture(TimeUnit::Seconds, 42))"
   ]
  },
  {
   "cell_type": "markdown",
   "metadata": {},
   "source": [
    "|      Pattern type       |        Example         |                                   Notes                                    |\n",
    "| ----------------------- | ---------------------- | -------------------------------------------------------------------------- |\n",
    "| Literal                 | `100`                  | Matches an exact value; the name of a const is also allowed                |\n",
    "|                         | `\"name\"`               |                                                                            |\n",
    "| Range                   | `0 ... 100`            | Matches any value in range, including the end value                        |\n",
    "|                         | `'a' ... 'k'`          |                                                                            |\n",
    "| Wildcard                | `_`                    | Matches any value and ignores it                                           |\n",
    "| Variable                | `name`                 | Like _ but moves or copies the value into a new local variable             |\n",
    "|                         | `mut count`            |                                                                            |\n",
    "| ref variable            | `ref field`            | Borrows a reference to the matched value instead of moving or copying it   |\n",
    "|                         | `ref mut field`        |                                                                            |\n",
    "| Binding with subpattern | `val @ 0 ... 99`       | Matches the pattern to the right of @, using the variable name to the left |\n",
    "|                         | `ref circle @`         |                                                                            |\n",
    "|                         | `Shape::Circle { .. }` |                                                                            |\n",
    "| Enum pattern\t          | `Some(value)`          |                                                                            |\n",
    "|                         | `None`                 |                                                                            |\n",
    "|                         | `Message::Ok`          |                                                                            |\n",
    "| Tuple pattern\t          | `(key, value)`         |                                                                            |\n",
    "|                         | `(r, g, b)`            |                                                                            |\n",
    "| Struct pattern\t      | `Color(r, g, b)`       |                                                                            |\n",
    "|                         | `Point { x, y }`       |                                                                            |\n",
    "|                         | `Card { suit: Clubs, rank: n }`  |                                                                  |\n",
    "|                         | `Account { id, name, .. }`       |                                                                  | \n",
    "| Reference\t              | `&value`               | Matches only reference values                                              |\n",
    "|                         | `&(k, v)`\t           |                                                                            |\n",
    "| Multiple patterns\t      | `'a' \\| 'A'`           | In match only (not valid in let, etc.)                                     |\n",
    "| Guard expression\t      | `x if x * x <= r2`     | In match only (not valid in let, etc.)                                     |"
   ]
  },
  {
   "cell_type": "markdown",
   "metadata": {},
   "source": []
  },
  {
   "cell_type": "markdown",
   "metadata": {},
   "source": []
  }
 ],
 "metadata": {
  "kernelspec": {
   "display_name": "Rust",
   "language": "rust",
   "name": "rust"
  },
  "language_info": {
   "codemirror_mode": "rust",
   "file_extension": ".rs",
   "mimetype": "text/rust",
   "name": "Rust",
   "pygment_lexer": "rust",
   "version": ""
  }
 },
 "nbformat": 4,
 "nbformat_minor": 2
}
