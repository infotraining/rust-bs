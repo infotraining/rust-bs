{
 "cells": [
  {
   "cell_type": "markdown",
   "metadata": {},
   "source": [
    "# Enums"
   ]
  },
  {
   "cell_type": "markdown",
   "metadata": {},
   "source": [
    "## C-Style Enums"
   ]
  },
  {
   "cell_type": "code",
   "execution_count": 2,
   "metadata": {
    "vscode": {
     "languageId": "rust"
    }
   },
   "outputs": [
    {
     "name": "stdout",
     "output_type": "stream",
     "text": [
      "direction = North\n"
     ]
    }
   ],
   "source": [
    "#[derive(Debug)]\n",
    "enum Compass {\n",
    "    North,\n",
    "    East,\n",
    "    South,\n",
    "    West\n",
    "}\n",
    "\n",
    "let direction = Compass::North;\n",
    "\n",
    "println!(\"direction = {:?}\", direction);"
   ]
  },
  {
   "cell_type": "markdown",
   "metadata": {},
   "source": [
    "* In memory, values of C-style enums are stored as integers. "
   ]
  },
  {
   "cell_type": "code",
   "execution_count": 3,
   "metadata": {
    "vscode": {
     "languageId": "rust"
    }
   },
   "outputs": [],
   "source": [
    "use std::mem::size_of;\n",
    "\n",
    "assert!(size_of::<Compass>() == 1);"
   ]
  },
  {
   "cell_type": "markdown",
   "metadata": {},
   "source": [
    "### Importing constructors"
   ]
  },
  {
   "cell_type": "code",
   "execution_count": 4,
   "metadata": {
    "vscode": {
     "languageId": "rust"
    }
   },
   "outputs": [],
   "source": [
    "use self::Compass::*; // self - when enum type is defined in current module; otherwise name of a module\n",
    "\n",
    "let direction = North;"
   ]
  },
  {
   "cell_type": "markdown",
   "metadata": {},
   "source": [
    "### Using Integral Values"
   ]
  },
  {
   "cell_type": "code",
   "execution_count": 5,
   "metadata": {
    "vscode": {
     "languageId": "rust"
    }
   },
   "outputs": [],
   "source": [
    "#[derive(Debug)]\n",
    "enum HttpStatus {\n",
    "    Ok = 200,\n",
    "    NotModified = 304,\n",
    "    NotFound = 404\n",
    "}\n",
    "\n",
    "assert!(size_of::<HttpStatus>() == 2);"
   ]
  },
  {
   "cell_type": "markdown",
   "metadata": {},
   "source": [
    "### Casting to Integer"
   ]
  },
  {
   "cell_type": "code",
   "execution_count": 6,
   "metadata": {
    "vscode": {
     "languageId": "rust"
    }
   },
   "outputs": [],
   "source": [
    "let ok_code = HttpStatus::Ok as i32;\n",
    "assert!(ok_code == 200);\n",
    "\n",
    "assert!(HttpStatus::NotFound as i32 == 404);"
   ]
  },
  {
   "cell_type": "markdown",
   "metadata": {},
   "source": [
    "### Casting from Integer"
   ]
  },
  {
   "cell_type": "code",
   "execution_count": 7,
   "metadata": {
    "vscode": {
     "languageId": "rust"
    }
   },
   "outputs": [],
   "source": [
    "fn http_status_from_u32(status: u32) -> Option<HttpStatus> {\n",
    "    match status {\n",
    "        200 => Some(HttpStatus::Ok),\n",
    "        304 => Some(HttpStatus::NotModified),\n",
    "        404 => Some(HttpStatus::NotFound),\n",
    "        _ => None\n",
    "    }\n",
    "}"
   ]
  },
  {
   "cell_type": "code",
   "execution_count": 8,
   "metadata": {
    "vscode": {
     "languageId": "rust"
    }
   },
   "outputs": [
    {
     "data": {
      "text/plain": [
       "Some(NotFound)"
      ]
     },
     "execution_count": 8,
     "metadata": {},
     "output_type": "execute_result"
    }
   ],
   "source": [
    "http_status_from_u32(404)"
   ]
  },
  {
   "cell_type": "markdown",
   "metadata": {},
   "source": [
    "### Deriving From Common Traits\n",
    "\n",
    "* As with structs, the compiler will implement features like the `==` operator for you, but you have to ask."
   ]
  },
  {
   "cell_type": "code",
   "execution_count": 9,
   "metadata": {
    "vscode": {
     "languageId": "rust"
    }
   },
   "outputs": [],
   "source": [
    "#[derive(Copy, Clone, Debug, PartialEq)]\n",
    "enum TimeUnit {\n",
    "    Seconds, Minutes, Hours, Days, Months, Years\n",
    "}"
   ]
  },
  {
   "cell_type": "code",
   "execution_count": 10,
   "metadata": {
    "vscode": {
     "languageId": "rust"
    }
   },
   "outputs": [],
   "source": [
    "assert!(TimeUnit::Seconds == TimeUnit::Seconds);"
   ]
  },
  {
   "cell_type": "markdown",
   "metadata": {},
   "source": [
    "### Implementing Methods for Enums"
   ]
  },
  {
   "cell_type": "code",
   "execution_count": 11,
   "metadata": {
    "vscode": {
     "languageId": "rust"
    }
   },
   "outputs": [],
   "source": [
    "impl TimeUnit {\n",
    "    /// Return the plural noun for this time unit.\n",
    "    fn plural(self) -> &'static str {\n",
    "        match self {\n",
    "            TimeUnit::Seconds => \"seconds\",\n",
    "            TimeUnit::Minutes => \"minutes\",\n",
    "            TimeUnit::Hours => \"hours\",\n",
    "            TimeUnit::Days => \"days\",\n",
    "            TimeUnit::Months => \"months\",\n",
    "            TimeUnit::Years => \"years\"\n",
    "        }\n",
    "    }\n",
    "\n",
    "    /// Return the singular noun for this time unit.\n",
    "    fn singular(self) -> &'static str {\n",
    "        self.plural().trim_right_matches('s')\n",
    "    }\n",
    "}"
   ]
  },
  {
   "cell_type": "code",
   "execution_count": 12,
   "metadata": {
    "vscode": {
     "languageId": "rust"
    }
   },
   "outputs": [
    {
     "data": {
      "text/plain": [
       "\"days\""
      ]
     },
     "execution_count": 12,
     "metadata": {},
     "output_type": "execute_result"
    }
   ],
   "source": [
    "let time_unit = TimeUnit::Days;\n",
    "\n",
    "time_unit.plural()"
   ]
  },
  {
   "cell_type": "markdown",
   "metadata": {},
   "source": [
    "## Enums With Data"
   ]
  },
  {
   "cell_type": "code",
   "execution_count": 13,
   "metadata": {
    "vscode": {
     "languageId": "rust"
    }
   },
   "outputs": [],
   "source": [
    "#[derive(Clone, Debug, PartialEq)]\n",
    "enum Message {\n",
    "    Quit, // no data associated\n",
    "    Move{ x: i32, y: i32 }, // named fields - like a struct\n",
    "    Write(String), // single String\n",
    "    ChangeColor(i32, i32, i32) // tuple struct of three values\n",
    "}"
   ]
  },
  {
   "cell_type": "code",
   "execution_count": 14,
   "metadata": {
    "vscode": {
     "languageId": "rust"
    }
   },
   "outputs": [
    {
     "name": "stdout",
     "output_type": "stream",
     "text": [
      "msg = Quit\n",
      "msg = Move { x: 100, y: 200 }\n",
      "msg = Write(\"TEXT\")\n",
      "msg = ChangeColor(255, 0, 255)\n"
     ]
    }
   ],
   "source": [
    "let mut msg = Message::Quit;\n",
    "println!(\"msg = {:?}\", msg);\n",
    "\n",
    "msg = Message::Move{ x: 100, y: 200};\n",
    "println!(\"msg = {:?}\", msg);\n",
    "\n",
    "msg = Message::Write(String::from(\"TEXT\"));\n",
    "println!(\"msg = {:?}\", msg);\n",
    "\n",
    "msg = Message::ChangeColor(255, 0, 255);\n",
    "println!(\"msg = {:?}\", msg);"
   ]
  },
  {
   "cell_type": "code",
   "execution_count": 15,
   "metadata": {
    "vscode": {
     "languageId": "rust"
    }
   },
   "outputs": [],
   "source": [
    "impl Message {\n",
    "    fn call(&self) {\n",
    "        match *self {\n",
    "            Message::Quit => println!(\"Quit\"),\n",
    "            Message::Move{ x, y } => println!(\"Move to x={}, y={}\", x, y),\n",
    "            Message::Write(ref text) => println!(\"Write '{}'\", text),\n",
    "            Message::ChangeColor(r, g, b) => println!(\"Change color to r={}, g={}, b={}\", r, g, b)\n",
    "        }\n",
    "    }\n",
    "}"
   ]
  },
  {
   "cell_type": "code",
   "execution_count": 16,
   "metadata": {
    "vscode": {
     "languageId": "rust"
    }
   },
   "outputs": [
    {
     "name": "stdout",
     "output_type": "stream",
     "text": [
      "Change color to r=255, g=0, b=255\n"
     ]
    }
   ],
   "source": [
    "msg.call();"
   ]
  },
  {
   "cell_type": "markdown",
   "metadata": {},
   "source": [
    "## Generic Enums"
   ]
  },
  {
   "cell_type": "markdown",
   "metadata": {},
   "source": [
    "### Option"
   ]
  },
  {
   "cell_type": "code",
   "execution_count": null,
   "metadata": {
    "vscode": {
     "languageId": "rust"
    }
   },
   "outputs": [],
   "source": [
    "enum Option<T> {\n",
    "    None,\n",
    "    Some(T)\n",
    "}"
   ]
  },
  {
   "cell_type": "markdown",
   "metadata": {},
   "source": [
    "### Result"
   ]
  },
  {
   "cell_type": "code",
   "execution_count": null,
   "metadata": {
    "vscode": {
     "languageId": "rust"
    }
   },
   "outputs": [],
   "source": [
    "enum Result<T, E> { \n",
    "    Ok(T), \n",
    "    Err(E) \n",
    "} "
   ]
  },
  {
   "cell_type": "markdown",
   "metadata": {},
   "source": [
    "### Real-World Example - BinaryTree"
   ]
  },
  {
   "cell_type": "code",
   "execution_count": 17,
   "metadata": {
    "vscode": {
     "languageId": "rust"
    }
   },
   "outputs": [],
   "source": [
    "// An ordered collection of `T`s.\n",
    "enum BinaryTree<T> {\n",
    "    Empty,\n",
    "    NonEmpty(Box<TreeNode<T>>)\n",
    "}\n",
    "\n",
    "// A part of a BinaryTree.\n",
    "struct TreeNode<T> {\n",
    "    element: T,\n",
    "    left: BinaryTree<T>,\n",
    "    right: BinaryTree<T>\n",
    "}"
   ]
  },
  {
   "cell_type": "code",
   "execution_count": 18,
   "metadata": {
    "vscode": {
     "languageId": "rust"
    }
   },
   "outputs": [],
   "source": [
    "use self::BinaryTree::*;\n",
    "\n",
    "let jupyter_tree = NonEmpty(Box::new(TreeNode {\n",
    "    element: \"Jupyter\",\n",
    "    left: Empty,\n",
    "    right: Empty\n",
    "}));\n",
    "\n",
    "let mercury_tree = NonEmpty(Box::new(TreeNode {\n",
    "    element: \"Jupyter\",\n",
    "    left: Empty,\n",
    "    right: Empty\n",
    "}));\n",
    "\n",
    "let venus_tree = NonEmpty(Box::new(TreeNode {\n",
    "    element: \"Jupyter\",\n",
    "    left: Empty,\n",
    "    right: Empty\n",
    "}));\n",
    "\n",
    "let mars_tree = NonEmpty(Box::new(TreeNode {\n",
    "    element: \"Saturn\",\n",
    "    left: jupyter_tree,\n",
    "    right: mercury_tree\n",
    "}));\n",
    "\n",
    "let uranus_tree = NonEmpty(Box::new(TreeNode {\n",
    "    element: \"Mars\",\n",
    "    left: Empty,\n",
    "    right: venus_tree\n",
    "}));\n",
    "\n",
    "// the root\n",
    "let saturn_tree = NonEmpty(Box::new(TreeNode {\n",
    "    element: \"Saturn\",\n",
    "    left: mars_tree,\n",
    "    right: uranus_tree\n",
    "}));"
   ]
  },
  {
   "cell_type": "markdown",
   "metadata": {},
   "source": [
    "## Patterns"
   ]
  },
  {
   "cell_type": "code",
   "execution_count": 19,
   "metadata": {
    "vscode": {
     "languageId": "rust"
    }
   },
   "outputs": [],
   "source": [
    "enum RoughTime {\n",
    "    InThePast(TimeUnit, u32),\n",
    "    JustNow,\n",
    "    InTheFuture(TimeUnit, u32)\n",
    "}"
   ]
  },
  {
   "cell_type": "code",
   "execution_count": 20,
   "metadata": {
    "vscode": {
     "languageId": "rust"
    }
   },
   "outputs": [],
   "source": [
    "fn rough_time_to_english(rt: RoughTime) -> String {\n",
    "    match rt {\n",
    "        RoughTime::InThePast(units, 1) => format!(\"{} ago\", units.singular()),\n",
    "        RoughTime::InThePast(units, count) => format!(\"{} {} ago\", count, units.plural()),\n",
    "        RoughTime::JustNow => format!(\"just now\"),\n",
    "        RoughTime::InTheFuture(units, 1) => format!(\"{} from now\", units.singular()),  \n",
    "        RoughTime::InTheFuture(units, count) => format!(\"{} {} from now\", count, units.plural())  \n",
    "    }\n",
    "}"
   ]
  },
  {
   "cell_type": "code",
   "execution_count": 21,
   "metadata": {
    "vscode": {
     "languageId": "rust"
    }
   },
   "outputs": [
    {
     "data": {
      "text/plain": [
       "\"second ago\""
      ]
     },
     "execution_count": 21,
     "metadata": {},
     "output_type": "execute_result"
    }
   ],
   "source": [
    "rough_time_to_english(RoughTime::InThePast(TimeUnit::Seconds, 1))"
   ]
  },
  {
   "cell_type": "code",
   "execution_count": 22,
   "metadata": {
    "vscode": {
     "languageId": "rust"
    }
   },
   "outputs": [
    {
     "data": {
      "text/plain": [
       "\"42 seconds ago\""
      ]
     },
     "execution_count": 22,
     "metadata": {},
     "output_type": "execute_result"
    }
   ],
   "source": [
    "rough_time_to_english(RoughTime::InThePast(TimeUnit::Seconds, 42))"
   ]
  },
  {
   "cell_type": "code",
   "execution_count": 23,
   "metadata": {
    "vscode": {
     "languageId": "rust"
    }
   },
   "outputs": [
    {
     "data": {
      "text/plain": [
       "\"just now\""
      ]
     },
     "execution_count": 23,
     "metadata": {},
     "output_type": "execute_result"
    }
   ],
   "source": [
    "rough_time_to_english(RoughTime::JustNow)"
   ]
  },
  {
   "cell_type": "code",
   "execution_count": 24,
   "metadata": {
    "vscode": {
     "languageId": "rust"
    }
   },
   "outputs": [
    {
     "data": {
      "text/plain": [
       "\"42 seconds from now\""
      ]
     },
     "execution_count": 24,
     "metadata": {},
     "output_type": "execute_result"
    }
   ],
   "source": [
    "rough_time_to_english(RoughTime::InTheFuture(TimeUnit::Seconds, 42))"
   ]
  },
  {
   "cell_type": "markdown",
   "metadata": {},
   "source": [
    "|      Pattern type       |        Example         |                                   Notes                                    |\n",
    "| ----------------------- | ---------------------- | -------------------------------------------------------------------------- |\n",
    "| Literal                 | `100`                  | Matches an exact value; the name of a const is also allowed                |\n",
    "|                         | `\"name\"`               |                                                                            |\n",
    "| Range                   | `0 ... 100`            | Matches any value in range, including the end value                        |\n",
    "|                         | `'a' ... 'k'`          |                                                                            |\n",
    "| Wildcard                | `_`                    | Matches any value and ignores it                                           |\n",
    "| Variable                | `name`                 | Like _ but moves or copies the value into a new local variable             |\n",
    "|                         | `mut count`            |                                                                            |\n",
    "| ref variable            | `ref field`            | Borrows a reference to the matched value instead of moving or copying it   |\n",
    "|                         | `ref mut field`        |                                                                            |\n",
    "| Binding with subpattern | `val @ 0 ... 99`       | Matches the pattern to the right of @, using the variable name to the left |\n",
    "|                         | `ref circle @`         |                                                                            |\n",
    "|                         | `Shape::Circle { .. }` |                                                                            |\n",
    "| Enum pattern\t          | `Some(value)`          |                                                                            |\n",
    "|                         | `None`                 |                                                                            |\n",
    "|                         | `Message::Ok`          |                                                                            |\n",
    "| Tuple pattern\t          | `(key, value)`         |                                                                            |\n",
    "|                         | `(r, g, b)`            |                                                                            |\n",
    "| Struct pattern\t      | `Color(r, g, b)`       |                                                                            |\n",
    "|                         | `Point { x, y }`       |                                                                            |\n",
    "|                         | `Card { suit: Clubs, rank: n }`  |                                                                  |\n",
    "|                         | `Account { id, name, .. }`       |                                                                  | \n",
    "| Reference\t              | `&value`               | Matches only reference values                                              |\n",
    "|                         | `&(k, v)`\t           |                                                                            |\n",
    "| Multiple patterns\t      | `'a' \\| 'A'`           | In match only (not valid in let, etc.)                                     |\n",
    "| Guard expression\t      | `x if x * x <= r2`     | In match only (not valid in let, etc.)                                     |"
   ]
  },
  {
   "cell_type": "markdown",
   "metadata": {},
   "source": [
    "### Literals, Variables and Wildcards in Patterns"
   ]
  },
  {
   "cell_type": "code",
   "execution_count": 25,
   "metadata": {
    "vscode": {
     "languageId": "rust"
    }
   },
   "outputs": [
    {
     "data": {
      "text/plain": [
       "\"4 clicks\""
      ]
     },
     "execution_count": 25,
     "metadata": {},
     "output_type": "execute_result"
    }
   ],
   "source": [
    "let no_of_clicks = 4;\n",
    "\n",
    "match no_of_clicks {\n",
    "    0 => format!(\"No one clicked...\"),\n",
    "    1 => format!(\"Just one click...\"),\n",
    "    n => format!(\"{} clicks\", n)\n",
    "}"
   ]
  },
  {
   "cell_type": "markdown",
   "metadata": {},
   "source": [
    "* Rust requires every match expression to handle all possible values, a wildcard is often required at the end"
   ]
  },
  {
   "cell_type": "code",
   "execution_count": 26,
   "metadata": {
    "vscode": {
     "languageId": "rust"
    }
   },
   "outputs": [
    {
     "data": {
      "text/plain": [
       "\"Not Ok\""
      ]
     },
     "execution_count": 26,
     "metadata": {},
     "output_type": "execute_result"
    }
   ],
   "source": [
    "let http_code = HttpStatus::NotFound;\n",
    "\n",
    "match http_code {\n",
    "    HttpStatus::Ok => \"Ok\",\n",
    "    _ => \"Not Ok\"\n",
    "}"
   ]
  },
  {
   "cell_type": "markdown",
   "metadata": {},
   "source": [
    "### Tuple Patterns"
   ]
  },
  {
   "cell_type": "code",
   "execution_count": 27,
   "metadata": {
    "vscode": {
     "languageId": "rust"
    }
   },
   "outputs": [],
   "source": [
    "fn describe_point(x: i32, y:i32) -> &'static str {\n",
    "    use std::cmp::Ordering::*;\n",
    "\n",
    "    match (x.cmp(&0), y.cmp(&0)) {\n",
    "        (Equal, Equal) => \"at the origin\",\n",
    "        (_, Equal) => \"on the x axis\",\n",
    "        (Equal, _) => \"on the y axis\",\n",
    "        (Greater, Greater) => \"in the first quadrant\",\n",
    "        (Less, Greater) => \"in the second quadrant\",\n",
    "        _ => \"somewhere else\"\n",
    "    }\n",
    "}"
   ]
  },
  {
   "cell_type": "code",
   "execution_count": 28,
   "metadata": {
    "vscode": {
     "languageId": "rust"
    }
   },
   "outputs": [
    {
     "data": {
      "text/plain": [
       "\"on the y axis\""
      ]
     },
     "execution_count": 28,
     "metadata": {},
     "output_type": "execute_result"
    }
   ],
   "source": [
    "describe_point(0, 42)"
   ]
  },
  {
   "cell_type": "markdown",
   "metadata": {},
   "source": [
    "### Struct Patterns"
   ]
  },
  {
   "cell_type": "code",
   "execution_count": 73,
   "metadata": {
    "vscode": {
     "languageId": "rust"
    }
   },
   "outputs": [
    {
     "data": {
      "text/plain": [
       "\"straight up 100 meters\""
      ]
     },
     "execution_count": 73,
     "metadata": {},
     "output_type": "execute_result"
    }
   ],
   "source": [
    "#[derive(Debug, PartialEq)]\n",
    "struct Point {\n",
    "    x: i32, \n",
    "    y: i32\n",
    "}\n",
    "\n",
    "let location = Point{x:0, y:100};\n",
    "\n",
    "match location {\n",
    "    Point{x: 0, y: height} => format!(\"straight up {} meters\", height),\n",
    "    Point{x: x, y: y } => format!(\"at ({},{})\", x, y)\n",
    "}"
   ]
  },
  {
   "cell_type": "markdown",
   "metadata": {},
   "source": [
    "* Patterns like `Point { x: x, y: y }` are common when matching structs, and the redundant names are visual clutter, so Rust has a shorthand for this: `Point {x, y}` - this pattern still stores a point’s `x` field in a new local `x` and its `y` field in a new local `y`."
   ]
  },
  {
   "cell_type": "code",
   "execution_count": 30,
   "metadata": {
    "vscode": {
     "languageId": "rust"
    }
   },
   "outputs": [
    {
     "data": {
      "text/plain": [
       "\"straight up 100 meters\""
      ]
     },
     "execution_count": 30,
     "metadata": {},
     "output_type": "execute_result"
    }
   ],
   "source": [
    "match location {\n",
    "    Point{x: 0, y} => format!(\"straight up {} meters\", y),\n",
    "    Point{x, y} => format!(\"at ({},{})\", x, y)\n",
    "}"
   ]
  },
  {
   "cell_type": "markdown",
   "metadata": {},
   "source": [
    "* Matching larger structs"
   ]
  },
  {
   "cell_type": "code",
   "execution_count": 59,
   "metadata": {
    "vscode": {
     "languageId": "rust"
    }
   },
   "outputs": [],
   "source": [
    "#[derive(Debug)]\n",
    "struct Person {\n",
    "    id: u64,\n",
    "    first_name: String,\n",
    "    last_name: String,\n",
    "    age: u8,\n",
    "    salary: f32,\n",
    "    job: String\n",
    "}"
   ]
  },
  {
   "cell_type": "code",
   "execution_count": 60,
   "metadata": {
    "vscode": {
     "languageId": "rust"
    }
   },
   "outputs": [
    {
     "data": {
      "text/plain": [
       "\"Jan Kowalski\""
      ]
     },
     "execution_count": 60,
     "metadata": {},
     "output_type": "execute_result"
    }
   ],
   "source": [
    "let person = Person{id: 665, first_name: \"Jan\".to_string(), last_name: \"Kowalski\".to_string(), age: 32, salary:9000.99, job: \"Rust Developer\".to_string() };\n",
    "\n",
    "match person {\n",
    "    Person{id: _, first_name, last_name, age: _, salary: _, job: _} => format!(\"{} {}\", first_name, last_name)\n",
    "}"
   ]
  },
  {
   "cell_type": "markdown",
   "metadata": {},
   "source": [
    "* We can skip uninteresting fields with `..`"
   ]
  },
  {
   "cell_type": "code",
   "execution_count": 61,
   "metadata": {
    "vscode": {
     "languageId": "rust"
    }
   },
   "outputs": [
    {
     "data": {
      "text/plain": [
       "\"Jan Kowalski\""
      ]
     },
     "execution_count": 61,
     "metadata": {},
     "output_type": "execute_result"
    }
   ],
   "source": [
    "let person = Person{id: 665, first_name: \"Jan\".to_string(), last_name: \"Kowalski\".to_string(), age: 32, salary:9000.99, job: \"Rust Developer\".to_string() };\n",
    "\n",
    "match person {\n",
    "    Person{first_name, last_name, ..} => format!(\"{} {}\", first_name, last_name)\n",
    "}"
   ]
  },
  {
   "cell_type": "markdown",
   "metadata": {},
   "source": [
    "### Reference Patterns"
   ]
  },
  {
   "cell_type": "markdown",
   "metadata": {
    "vscode": {
     "languageId": "rust"
    }
   },
   "source": [
    "#### `ref` Patterns\n",
    "\n",
    "* `ref` patterns borrow parts of a matched value"
   ]
  },
  {
   "cell_type": "code",
   "execution_count": 62,
   "metadata": {
    "vscode": {
     "languageId": "rust"
    }
   },
   "outputs": [],
   "source": [
    "fn print_names(person: &Person) {\n",
    "    print!(\"{} {}\", person.first_name, person.last_name);    \n",
    "}"
   ]
  },
  {
   "cell_type": "code",
   "execution_count": 63,
   "metadata": {
    "vscode": {
     "languageId": "rust"
    }
   },
   "outputs": [
    {
     "ename": "Error",
     "evalue": "use of deprecated method `core::str::<impl str>::trim_right_matches`: superseded by `trim_end_matches`",
     "output_type": "error",
     "traceback": [
      "\u001b[31m[deprecated] Error:\u001b[0m use of deprecated method `core::str::<impl str>::trim_right_matches`: superseded by `trim_end_matches`"
     ]
    },
    {
     "ename": "Error",
     "evalue": "borrow of partially moved value: `person`",
     "output_type": "error",
     "traceback": [
      "\u001b[31m[E0382] Error:\u001b[0m borrow of partially moved value: `person`",
      "   \u001b[38;5;246m╭\u001b[0m\u001b[38;5;246m─\u001b[0m\u001b[38;5;246m[\u001b[0mcommand_63:1:1\u001b[38;5;246m]\u001b[0m",
      "   \u001b[38;5;246m│\u001b[0m",
      " \u001b[38;5;246m4 │\u001b[0m \u001b[38;5;249m \u001b[0m\u001b[38;5;249m \u001b[0m\u001b[38;5;249m \u001b[0m\u001b[38;5;249m \u001b[0m\u001b[38;5;249mP\u001b[0m\u001b[38;5;249me\u001b[0m\u001b[38;5;249mr\u001b[0m\u001b[38;5;249ms\u001b[0m\u001b[38;5;249mo\u001b[0m\u001b[38;5;249mn\u001b[0m\u001b[38;5;249m{\u001b[0m\u001b[38;5;249m \u001b[0m\u001b[38;5;54mj\u001b[0m\u001b[38;5;54mo\u001b[0m\u001b[38;5;54mb\u001b[0m\u001b[38;5;249m,\u001b[0m\u001b[38;5;249m \u001b[0m\u001b[38;5;249m.\u001b[0m\u001b[38;5;249m.\u001b[0m\u001b[38;5;249m \u001b[0m\u001b[38;5;249m}\u001b[0m\u001b[38;5;249m \u001b[0m\u001b[38;5;249m=\u001b[0m\u001b[38;5;249m>\u001b[0m\u001b[38;5;249m \u001b[0m\u001b[38;5;249m{\u001b[0m\u001b[38;5;249m \u001b[0m\u001b[38;5;249mp\u001b[0m\u001b[38;5;249mr\u001b[0m\u001b[38;5;249mi\u001b[0m\u001b[38;5;249mn\u001b[0m\u001b[38;5;249mt\u001b[0m\u001b[38;5;249m_\u001b[0m\u001b[38;5;249mn\u001b[0m\u001b[38;5;249ma\u001b[0m\u001b[38;5;249mm\u001b[0m\u001b[38;5;249me\u001b[0m\u001b[38;5;249ms\u001b[0m\u001b[38;5;249m(\u001b[0m\u001b[38;5;100m&\u001b[0m\u001b[38;5;100mp\u001b[0m\u001b[38;5;100me\u001b[0m\u001b[38;5;100mr\u001b[0m\u001b[38;5;100ms\u001b[0m\u001b[38;5;100mo\u001b[0m\u001b[38;5;100mn\u001b[0m\u001b[38;5;249m)\u001b[0m\u001b[38;5;249m;\u001b[0m\u001b[38;5;249m \u001b[0m\u001b[38;5;249mp\u001b[0m\u001b[38;5;249mr\u001b[0m\u001b[38;5;249mi\u001b[0m\u001b[38;5;249mn\u001b[0m\u001b[38;5;249mt\u001b[0m\u001b[38;5;249ml\u001b[0m\u001b[38;5;249mn\u001b[0m\u001b[38;5;249m!\u001b[0m\u001b[38;5;249m(\u001b[0m\u001b[38;5;249m\"\u001b[0m\u001b[38;5;249mW\u001b[0m\u001b[38;5;249mo\u001b[0m\u001b[38;5;249mr\u001b[0m\u001b[38;5;249mk\u001b[0m\u001b[38;5;249ms\u001b[0m\u001b[38;5;249m \u001b[0m\u001b[38;5;249ma\u001b[0m\u001b[38;5;249ms\u001b[0m\u001b[38;5;249m \u001b[0m\u001b[38;5;249m{\u001b[0m\u001b[38;5;249m}\u001b[0m\u001b[38;5;249m\"\u001b[0m\u001b[38;5;249m,\u001b[0m\u001b[38;5;249m \u001b[0m\u001b[38;5;249mj\u001b[0m\u001b[38;5;249mo\u001b[0m\u001b[38;5;249mb\u001b[0m\u001b[38;5;249m)\u001b[0m\u001b[38;5;249m \u001b[0m\u001b[38;5;249m}\u001b[0m",
      " \u001b[38;5;246m  ·\u001b[0m             \u001b[38;5;68m┬\u001b[0m\u001b[38;5;54m┬\u001b[0m\u001b[38;5;54m─\u001b[0m                        \u001b[38;5;100m─\u001b[0m\u001b[38;5;100m─\u001b[0m\u001b[38;5;100m─\u001b[0m\u001b[38;5;100m┬\u001b[0m\u001b[38;5;100m─\u001b[0m\u001b[38;5;100m─\u001b[0m\u001b[38;5;100m─\u001b[0m  ",
      " \u001b[38;5;246m  ·\u001b[0m             \u001b[38;5;68m╰\u001b[0m\u001b[38;5;68m─\u001b[0m\u001b[38;5;68m─\u001b[0m\u001b[38;5;68m─\u001b[0m\u001b[38;5;68m─\u001b[0m\u001b[38;5;68m─\u001b[0m\u001b[38;5;68m─\u001b[0m\u001b[38;5;68m─\u001b[0m\u001b[38;5;68m─\u001b[0m\u001b[38;5;68m─\u001b[0m\u001b[38;5;68m─\u001b[0m\u001b[38;5;68m─\u001b[0m\u001b[38;5;68m─\u001b[0m\u001b[38;5;68m─\u001b[0m\u001b[38;5;68m─\u001b[0m\u001b[38;5;68m─\u001b[0m\u001b[38;5;68m─\u001b[0m\u001b[38;5;68m─\u001b[0m\u001b[38;5;68m─\u001b[0m\u001b[38;5;68m─\u001b[0m\u001b[38;5;68m─\u001b[0m\u001b[38;5;68m─\u001b[0m\u001b[38;5;68m─\u001b[0m\u001b[38;5;68m─\u001b[0m\u001b[38;5;68m─\u001b[0m\u001b[38;5;68m─\u001b[0m\u001b[38;5;68m─\u001b[0m\u001b[38;5;68m─\u001b[0m\u001b[38;5;68m─\u001b[0m\u001b[38;5;68m─\u001b[0m\u001b[38;5;68m─\u001b[0m\u001b[38;5;68m─\u001b[0m\u001b[38;5;68m─\u001b[0m\u001b[38;5;68m─\u001b[0m\u001b[38;5;68m─\u001b[0m\u001b[38;5;68m─\u001b[0m help: borrow this binding in the pattern to avoid moving the value: `ref `",
      " \u001b[38;5;246m  ·\u001b[0m              \u001b[38;5;54m│\u001b[0m                            \u001b[38;5;100m│\u001b[0m     ",
      " \u001b[38;5;246m  ·\u001b[0m              \u001b[38;5;54m╰\u001b[0m\u001b[38;5;54m─\u001b[0m\u001b[38;5;54m─\u001b[0m\u001b[38;5;54m─\u001b[0m\u001b[38;5;54m─\u001b[0m\u001b[38;5;54m─\u001b[0m\u001b[38;5;54m─\u001b[0m\u001b[38;5;54m─\u001b[0m\u001b[38;5;54m─\u001b[0m\u001b[38;5;54m─\u001b[0m\u001b[38;5;54m─\u001b[0m\u001b[38;5;54m─\u001b[0m\u001b[38;5;54m─\u001b[0m\u001b[38;5;54m─\u001b[0m\u001b[38;5;54m─\u001b[0m\u001b[38;5;54m─\u001b[0m\u001b[38;5;54m─\u001b[0m\u001b[38;5;54m─\u001b[0m\u001b[38;5;54m─\u001b[0m\u001b[38;5;54m─\u001b[0m\u001b[38;5;54m─\u001b[0m\u001b[38;5;54m─\u001b[0m\u001b[38;5;54m─\u001b[0m\u001b[38;5;54m─\u001b[0m\u001b[38;5;54m─\u001b[0m\u001b[38;5;54m─\u001b[0m\u001b[38;5;54m─\u001b[0m\u001b[38;5;54m─\u001b[0m\u001b[38;5;54m─\u001b[0m\u001b[38;5;54m─\u001b[0m\u001b[38;5;54m─\u001b[0m\u001b[38;5;54m─\u001b[0m\u001b[38;5;54m─\u001b[0m\u001b[38;5;54m─\u001b[0m\u001b[38;5;54m─\u001b[0m value partially moved here",
      " \u001b[38;5;246m  ·\u001b[0m                                           \u001b[38;5;100m│\u001b[0m     ",
      " \u001b[38;5;246m  ·\u001b[0m                                           \u001b[38;5;100m╰\u001b[0m\u001b[38;5;100m─\u001b[0m\u001b[38;5;100m─\u001b[0m\u001b[38;5;100m─\u001b[0m\u001b[38;5;100m─\u001b[0m\u001b[38;5;100m─\u001b[0m value borrowed here after partial move",
      "\u001b[38;5;246m───╯\u001b[0m"
     ]
    }
   ],
   "source": [
    "let person = Person{ id: 665, first_name: \"Jan\".to_string(), last_name: \"Kowalski\".to_string(), age: 32, salary:9000.99, job: \"Rust Developer\".to_string() };\n",
    "\n",
    "match person {\n",
    "    Person{ job, .. } => { print_names(&person); println!(\"Works as {}\", job) }\n",
    "}"
   ]
  },
  {
   "cell_type": "code",
   "execution_count": 64,
   "metadata": {
    "vscode": {
     "languageId": "rust"
    }
   },
   "outputs": [
    {
     "name": "stdout",
     "output_type": "stream",
     "text": [
      "Jan Kowalski Works as Rust Developer\n"
     ]
    },
    {
     "data": {
      "text/plain": [
       "()"
      ]
     },
     "execution_count": 64,
     "metadata": {},
     "output_type": "execute_result"
    }
   ],
   "source": [
    "let person = Person{ id: 665, first_name: \"Jan\".to_string(), last_name: \"Kowalski\".to_string(), age: 32, salary:9000.99, job: \"Rust Developer\".to_string() };\n",
    "\n",
    "match person {\n",
    "    Person{ ref job, .. } => { print_names(&person); println!(\" Works as {}\", job) }\n",
    "}"
   ]
  },
  {
   "cell_type": "code",
   "execution_count": 65,
   "metadata": {
    "vscode": {
     "languageId": "rust"
    }
   },
   "outputs": [
    {
     "data": {
      "text/plain": [
       "Person { id: 665, first_name: \"JAN\", last_name: \"KOWALSKI\", age: 32, salary: 9000.99, job: \"Rust Developer\" }"
      ]
     },
     "execution_count": 65,
     "metadata": {},
     "output_type": "execute_result"
    }
   ],
   "source": [
    "fn to_upper(text: &mut String) {\n",
    "    *text = text.to_uppercase();\n",
    "}\n",
    "\n",
    "let mut person = Person{ id: 665, first_name: \"Jan\".to_string(), last_name: \"Kowalski\".to_string(), age: 32, salary:9000.99, job: \"Rust Developer\".to_string() };\n",
    "\n",
    "match person {\n",
    "    Person{ref mut first_name, ref mut last_name, ..} => { to_upper(first_name); to_upper(last_name) }\n",
    "}\n",
    "\n",
    "person"
   ]
  },
  {
   "cell_type": "markdown",
   "metadata": {},
   "source": [
    "#### & Pattern\n",
    "\n",
    "* A pattern starting with `&` matches a reference."
   ]
  },
  {
   "cell_type": "code",
   "execution_count": 101,
   "metadata": {
    "vscode": {
     "languageId": "rust"
    }
   },
   "outputs": [
    {
     "data": {
      "text/plain": [
       "\"x=100, y=200\""
      ]
     },
     "execution_count": 101,
     "metadata": {},
     "output_type": "execute_result"
    }
   ],
   "source": [
    "#[derive(Debug, PartialEq)]\n",
    "struct Circle { pos: Point, r: u32 }\n",
    "\n",
    "impl Circle {\n",
    "    fn center(&mut self) -> &mut Point {\n",
    "        return &mut self.pos;\n",
    "    }\n",
    "}\n",
    "\n",
    "let mut c = Circle{pos: Point{x: 100, y: 200}, r: 50};\n",
    "\n",
    "match c.center() {\n",
    "    &mut Point{x, y} => { format!(\"x={}, y={}\", x, y) },\n",
    "}"
   ]
  },
  {
   "cell_type": "code",
   "execution_count": 102,
   "metadata": {
    "vscode": {
     "languageId": "rust"
    }
   },
   "outputs": [
    {
     "data": {
      "text/plain": [
       "Point { x: 10, y: 200 }"
      ]
     },
     "execution_count": 102,
     "metadata": {},
     "output_type": "execute_result"
    }
   ],
   "source": [
    "match c.center() {\n",
    "    &mut Point{ref mut x, ..} => { *x = 10; },\n",
    "}\n",
    "\n",
    "c.center()"
   ]
  },
  {
   "cell_type": "code",
   "execution_count": 128,
   "metadata": {
    "vscode": {
     "languageId": "rust"
    }
   },
   "outputs": [
    {
     "name": "stdout",
     "output_type": "stream",
     "text": [
      "item peeked: Item(\"one\")\n"
     ]
    },
    {
     "data": {
      "text/plain": [
       "()"
      ]
     },
     "execution_count": 128,
     "metadata": {},
     "output_type": "execute_result"
    }
   ],
   "source": [
    "#[derive(Debug)]\n",
    "struct Item(String);\n",
    "\n",
    "let items = [Item(\"one\".to_string()), Item(\"two\".to_string()), Item(\"three\".to_string())];\n",
    "\n",
    "{\n",
    "    let mut iter = items.iter().peekable();\n",
    "\n",
    "    match iter.peek() {\n",
    "        Some(&item) => println!(\"item peeked: {:?}\", item),\n",
    "        None => println!(\"no item\")\n",
    "    }\n",
    "}"
   ]
  },
  {
   "cell_type": "markdown",
   "metadata": {},
   "source": [
    "### Matching Multiple Possibilities"
   ]
  },
  {
   "cell_type": "code",
   "execution_count": 134,
   "metadata": {
    "vscode": {
     "languageId": "rust"
    }
   },
   "outputs": [
    {
     "data": {
      "text/plain": [
       "true"
      ]
     },
     "execution_count": 134,
     "metadata": {},
     "output_type": "execute_result"
    }
   ],
   "source": [
    "let text = String::from(\"\\nBC\");\n",
    "\n",
    "{\n",
    "    let mut chars = text.chars().peekable();\n",
    "\n",
    "    let at_end = match chars.peek() {\n",
    "        Some(&'\\r') | Some(&'\\n') | None => true,\n",
    "        _ => false\n",
    "    };\n",
    "\n",
    "    at_end\n",
    "}"
   ]
  },
  {
   "cell_type": "code",
   "execution_count": null,
   "metadata": {
    "vscode": {
     "languageId": "rust"
    }
   },
   "outputs": [],
   "source": [
    "let text = String::from(\"\\nBC\");"
   ]
  }
 ],
 "metadata": {
  "kernelspec": {
   "display_name": "Rust",
   "language": "rust",
   "name": "rust"
  },
  "language_info": {
   "codemirror_mode": "rust",
   "file_extension": ".rs",
   "mimetype": "text/rust",
   "name": "Rust",
   "pygment_lexer": "rust",
   "version": ""
  }
 },
 "nbformat": 4,
 "nbformat_minor": 2
}
