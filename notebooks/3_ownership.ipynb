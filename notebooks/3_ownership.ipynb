{
 "cells": [
  {
   "cell_type": "markdown",
   "metadata": {},
   "source": [
    "# Ownership\n",
    "\n",
    "* **Ownership** is a set of rules that govern how a Rust program manages memory.\n",
    "* Memory is managed through a system of ownership with a set of rules that the compiler checks. \n",
    "* If any of the rules are violated, the program won’t compile. \n",
    "* None of the features of ownership will slow down your program while it’s running.\n",
    "\n",
    "## Ownership rules\n",
    "\n",
    "* Each value in Rust has an owner.\n",
    "* There can only be one owner at a time.\n",
    "* When the owner goes out of scope, the value will be dropped.\n",
    "\n",
    "## Variable scope\n",
    "\n",
    "* The **variable** is valid from the point at which it’s declared until the end of the current **scope**\n",
    "* There are two important points in time here:\n",
    "  * when s comes into scope, it is valid.\n",
    "  * it remains valid until it goes out of scope."
   ]
  },
  {
   "cell_type": "code",
   "execution_count": null,
   "metadata": {},
   "outputs": [],
   "source": [
    "{\n",
    "    {                           // s is not valid here, it’s not yet declared\n",
    "        let s = \"Rusty Cage\";   // s is valid from this point forward\n",
    "\n",
    "        println!(\"{}\", s);    \n",
    "    }                           // this scope is now over, and s is no longer valid\n",
    "}"
   ]
  },
  {
   "cell_type": "markdown",
   "metadata": {},
   "source": [
    "## The `String` Type"
   ]
  },
  {
   "cell_type": "code",
   "execution_count": 9,
   "metadata": {},
   "outputs": [
    {
     "name": "stdout",
     "output_type": "stream",
     "text": [
      "Rusty Cage!\n"
     ]
    }
   ],
   "source": [
    "{\n",
    "    let mut s = String::from(\"Rusty\"); // s allocates memory on the heap\n",
    "    s.push_str(\" Cage!\"); // ... do something with 's'\n",
    "    println!(\"{}\", s);\n",
    "    \n",
    "} // 's' goes out of scope, and memory is deallocated"
   ]
  },
  {
   "cell_type": "markdown",
   "metadata": {},
   "source": [
    "## Copy & Move for objects"
   ]
  },
  {
   "cell_type": "markdown",
   "metadata": {},
   "source": [
    "## Copy\n",
    "\n",
    "* If a type implements the `Copy` trait, variables that use it do not move, but rather are trivially copied, making them still valid after assignment to another variable.\n",
    "\n",
    "* Primitive types that implement `Copy` trait are:\n",
    "  * all the integer types, such as `u32`.\n",
    "  * the Boolean type, `bool`, with values `true` and `false`.\n",
    "  * all the floating-point types, such as `f64`.\n",
    "  * the character type, `char`.\n",
    "  * tuples, if they only contain types that also implement `Copy`. For example, `(i32, i32)` implements `Copy`, but `(i32, String)` does not.\n"
   ]
  },
  {
   "cell_type": "code",
   "execution_count": 11,
   "metadata": {},
   "outputs": [
    {
     "name": "stdout",
     "output_type": "stream",
     "text": [
      "x=10; y=10\n"
     ]
    },
    {
     "data": {
      "text/plain": [
       "()"
      ]
     },
     "execution_count": 11,
     "metadata": {},
     "output_type": "execute_result"
    }
   ],
   "source": [
    "let x = 10;\n",
    "let y = x;\n",
    "\n",
    "println!(\"x={x}; y={y}\")"
   ]
  },
  {
   "cell_type": "markdown",
   "metadata": {},
   "source": [
    "### Move\n",
    "\n",
    "* Objects that allocate memory on heap are moved by default (shallow copy is disabled by default)"
   ]
  },
  {
   "cell_type": "code",
   "execution_count": 15,
   "metadata": {},
   "outputs": [
    {
     "name": "stdout",
     "output_type": "stream",
     "text": [
      "Rusty\n"
     ]
    }
   ],
   "source": [
    "let s1 = String::from(\"Rusty\");\n",
    "let s2 = s1;\n",
    "\n",
    "println!(\"{s2}\");"
   ]
  },
  {
   "cell_type": "code",
   "execution_count": 17,
   "metadata": {},
   "outputs": [
    {
     "ename": "Error",
     "evalue": "borrow of moved value: `s1`",
     "output_type": "error",
     "traceback": [
      "\u001b[31m[E0382] Error:\u001b[0m borrow of moved value: `s1`",
      "   \u001b[38;5;246m╭\u001b[0m\u001b[38;5;246m─\u001b[0m\u001b[38;5;246m[\u001b[0mcommand_17:1:1\u001b[38;5;246m]\u001b[0m",
      "   \u001b[38;5;246m│\u001b[0m",
      " \u001b[38;5;246m1 │\u001b[0m \u001b[38;5;249ml\u001b[0m\u001b[38;5;249me\u001b[0m\u001b[38;5;249mt\u001b[0m\u001b[38;5;249m \u001b[0m\u001b[38;5;100ms\u001b[0m\u001b[38;5;100m1\u001b[0m\u001b[38;5;249m \u001b[0m\u001b[38;5;249m=\u001b[0m\u001b[38;5;249m \u001b[0m\u001b[38;5;249mS\u001b[0m\u001b[38;5;249mt\u001b[0m\u001b[38;5;249mr\u001b[0m\u001b[38;5;249mi\u001b[0m\u001b[38;5;249mn\u001b[0m\u001b[38;5;249mg\u001b[0m\u001b[38;5;249m:\u001b[0m\u001b[38;5;249m:\u001b[0m\u001b[38;5;249mf\u001b[0m\u001b[38;5;249mr\u001b[0m\u001b[38;5;249mo\u001b[0m\u001b[38;5;249mm\u001b[0m\u001b[38;5;249m(\u001b[0m\u001b[38;5;249m\"\u001b[0m\u001b[38;5;249mR\u001b[0m\u001b[38;5;249mu\u001b[0m\u001b[38;5;249ms\u001b[0m\u001b[38;5;249mt\u001b[0m\u001b[38;5;249my\u001b[0m\u001b[38;5;249m\"\u001b[0m\u001b[38;5;249m)\u001b[0m\u001b[38;5;249m;\u001b[0m",
      " \u001b[38;5;246m  ·\u001b[0m     \u001b[38;5;100m─\u001b[0m\u001b[38;5;100m┬\u001b[0m  ",
      " \u001b[38;5;246m  ·\u001b[0m      \u001b[38;5;100m╰\u001b[0m\u001b[38;5;100m─\u001b[0m\u001b[38;5;100m─\u001b[0m move occurs because `s1` has type `String`, which does not implement the `Copy` trait",
      " \u001b[38;5;246m2 │\u001b[0m \u001b[38;5;249ml\u001b[0m\u001b[38;5;249me\u001b[0m\u001b[38;5;249mt\u001b[0m\u001b[38;5;249m \u001b[0m\u001b[38;5;249ms\u001b[0m\u001b[38;5;249m2\u001b[0m\u001b[38;5;249m \u001b[0m\u001b[38;5;249m=\u001b[0m\u001b[38;5;249m \u001b[0m\u001b[38;5;54ms\u001b[0m\u001b[38;5;54m1\u001b[0m\u001b[38;5;249m;\u001b[0m",
      " \u001b[38;5;246m  ·\u001b[0m          \u001b[38;5;54m─\u001b[0m\u001b[38;5;54m┬\u001b[0m\u001b[38;5;68m│\u001b[0m ",
      " \u001b[38;5;246m  ·\u001b[0m           \u001b[38;5;54m╰\u001b[0m\u001b[38;5;54m─\u001b[0m\u001b[38;5;54m─\u001b[0m value moved here",
      " \u001b[38;5;246m  ·\u001b[0m            \u001b[38;5;68m│\u001b[0m ",
      " \u001b[38;5;246m  ·\u001b[0m            \u001b[38;5;68m╰\u001b[0m\u001b[38;5;68m─\u001b[0m help: consider cloning the value if the performance cost is acceptable: `.clone()`",
      "\u001b[38;5;246m───╯\u001b[0m"
     ]
    }
   ],
   "source": [
    "let s1 = String::from(\"Rusty\");\n",
    "let s2 = s1;\n",
    "\n",
    "s1"
   ]
  },
  {
   "cell_type": "markdown",
   "metadata": {},
   "source": [
    "* How it works\n",
    "\n",
    "<img src=\"./images/rust-move.png\" height=\"400px\" align=\"center\" />"
   ]
  },
  {
   "cell_type": "markdown",
   "metadata": {
    "vscode": {
     "languageId": "rust"
    }
   },
   "source": [
    "* if we do want to make a deep copy the heap data of the `String`, not just the stack data, we can use a common method called `clone()`."
   ]
  },
  {
   "cell_type": "code",
   "execution_count": 10,
   "metadata": {},
   "outputs": [
    {
     "name": "stdout",
     "output_type": "stream",
     "text": [
      "s1 = hello, s2 = hello\n"
     ]
    }
   ],
   "source": [
    "let s1 = String::from(\"hello\");\n",
    "let s2 = s1.clone();\n",
    "\n",
    "println!(\"s1 = {s1}, s2 = {s2}\");"
   ]
  },
  {
   "cell_type": "markdown",
   "metadata": {},
   "source": [
    "<img src=\"./images/rust-clone.png\" height=\"400px\" align=\"center\" />"
   ]
  },
  {
   "cell_type": "markdown",
   "metadata": {},
   "source": [
    "## Ownership and functions\n",
    "\n",
    "* The mechanics of passing a value to a function are similar to those when assigning a value to a variable\n",
    "* Passing a variable to a function will move or copy, just as assignment does"
   ]
  },
  {
   "cell_type": "code",
   "execution_count": 6,
   "metadata": {},
   "outputs": [
    {
     "name": "stdout",
     "output_type": "stream",
     "text": [
      "number = 3.14159\n",
      "pi = 3.14159\n",
      "text = TEXT\n"
     ]
    },
    {
     "data": {
      "text/plain": [
       "()"
      ]
     },
     "execution_count": 6,
     "metadata": {},
     "output_type": "execute_result"
    }
   ],
   "source": [
    "fn takes_ownership(text: String) {\n",
    "    println!(\"text = {text}\");\n",
    "} \n",
    "\n",
    "fn takes_copy(number: f64) {\n",
    "    println!(\"number = {number}\");\n",
    "}\n",
    "\n",
    "fn main() {\n",
    "    let pi = 3.14159;\n",
    "    takes_copy(pi);\n",
    "    println!(\"pi = {pi}\");\n",
    "\n",
    "    let text = String::from(\"TEXT\");\n",
    "    takes_ownership(text);\n",
    "    // println!(\"text = {text}\"); // comment-out this line\n",
    "}\n",
    "\n",
    "main()"
   ]
  },
  {
   "cell_type": "markdown",
   "metadata": {},
   "source": [
    "## Return Values and Scope\n",
    "\n",
    "* Returning values can also transfer ownership"
   ]
  },
  {
   "cell_type": "code",
   "execution_count": 9,
   "metadata": {},
   "outputs": [
    {
     "name": "stdout",
     "output_type": "stream",
     "text": [
      "Ownership!!!\n"
     ]
    },
    {
     "data": {
      "text/plain": [
       "()"
      ]
     },
     "execution_count": 9,
     "metadata": {},
     "output_type": "execute_result"
    }
   ],
   "source": [
    "fn gives_ownership() -> String {\n",
    "    let text = String::from(\"Ownership!!!\");\n",
    "\n",
    "    text\n",
    "}\n",
    "\n",
    "fn transfers_ownership(text: String) -> String {\n",
    "    text\n",
    "}\n",
    "\n",
    "fn main() {\n",
    "    let txt1 = gives_ownership();\n",
    "    let txt2 = transfers_ownership(txt1);\n",
    "    // println!(\"{txt1}\"); // comment-out this line\n",
    "    println!(\"{txt2}\");\n",
    "}\n",
    "\n",
    "main()"
   ]
  }
 ],
 "metadata": {
  "kernelspec": {
   "display_name": "Rust",
   "language": "rust",
   "name": "rust"
  },
  "language_info": {
   "codemirror_mode": "rust",
   "file_extension": ".rs",
   "mimetype": "text/rust",
   "name": "rust",
   "pygment_lexer": "rust",
   "version": ""
  }
 },
 "nbformat": 4,
 "nbformat_minor": 2
}
