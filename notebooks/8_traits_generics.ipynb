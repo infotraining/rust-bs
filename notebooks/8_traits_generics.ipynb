{
 "cells": [
  {
   "cell_type": "markdown",
   "metadata": {},
   "source": [
    "# Traits and Generics"
   ]
  },
  {
   "cell_type": "markdown",
   "metadata": {},
   "source": [
    "## Traits"
   ]
  },
  {
   "cell_type": "markdown",
   "metadata": {},
   "source": [
    "* Traits are Rust’s take on interfaces or abstract base classes"
   ]
  },
  {
   "cell_type": "code",
   "execution_count": 2,
   "metadata": {
    "vscode": {
     "languageId": "rust"
    }
   },
   "outputs": [],
   "source": [
    "trait Printable {\n",
    "    fn print(&self);\n",
    "}"
   ]
  },
  {
   "cell_type": "markdown",
   "metadata": {},
   "source": [
    "### Implementing Traits"
   ]
  },
  {
   "cell_type": "code",
   "execution_count": 3,
   "metadata": {
    "vscode": {
     "languageId": "rust"
    }
   },
   "outputs": [],
   "source": [
    "struct Number {\n",
    "    value: i32,\n",
    "}\n",
    "\n",
    "impl Printable for Number {\n",
    "    fn print(&self) {\n",
    "        println!(\"Number: {}\", self.value);\n",
    "    }\n",
    "}"
   ]
  },
  {
   "cell_type": "code",
   "execution_count": 4,
   "metadata": {
    "vscode": {
     "languageId": "rust"
    }
   },
   "outputs": [],
   "source": [
    "struct Circle {\n",
    "    radius: f64\n",
    "}\n",
    "\n",
    "struct Rectangle {\n",
    "    width: f64,\n",
    "    height: f64\n",
    "}\n",
    "\n",
    "impl Printable for Circle {\n",
    "    fn print(&self) {\n",
    "        println!(\"Circle with radius: {}\", self.radius);\n",
    "    }\n",
    "}\n",
    "\n",
    "impl Printable for Rectangle {\n",
    "    fn print(&self) {\n",
    "        println!(\"Rectangle with width: {} and height: {}\", self.width, self.height);\n",
    "    }\n",
    "}"
   ]
  },
  {
   "cell_type": "markdown",
   "metadata": {},
   "source": [
    "### Default Trait Behavior"
   ]
  },
  {
   "cell_type": "code",
   "execution_count": 24,
   "metadata": {
    "vscode": {
     "languageId": "rust"
    }
   },
   "outputs": [],
   "source": [
    "trait Drawable {\n",
    "    fn draw(&self) {\n",
    "        println!(\"Drawing the shape...\");\n",
    "    }\n",
    "}\n",
    "\n",
    "impl Drawable for Circle {\n",
    "    fn draw(&self) {\n",
    "        println!(\"Drawing the circle with radius: {}\", self.radius);\n",
    "    }\n",
    "}\n",
    "\n",
    "impl Drawable for Rectangle {\n",
    "    // fn draw(&self) {\n",
    "    //     println!(\"Drawing the rectangle with width: {} and height: {}\", self.width, self.height);\n",
    "    // }\n",
    "}"
   ]
  },
  {
   "cell_type": "markdown",
   "metadata": {},
   "source": [
    "### Trait Bounds\n",
    "\n",
    "#### `impl Trait` Syntax"
   ]
  },
  {
   "cell_type": "code",
   "execution_count": 31,
   "metadata": {
    "vscode": {
     "languageId": "rust"
    }
   },
   "outputs": [
    {
     "name": "stdout",
     "output_type": "stream",
     "text": [
      "Drawing the circle with radius: 5\n",
      "Drawing the shape...\n"
     ]
    }
   ],
   "source": [
    "fn draw_shape(shape: &impl Drawable) {\n",
    "    shape.draw()\n",
    "}\n",
    "\n",
    "let circle = Circle{radius: 5.0};\n",
    "draw_shape(&circle);\n",
    "\n",
    "let rect = Rectangle{width: 10.0, height: 5.0};\n",
    "draw_shape(&rect);"
   ]
  },
  {
   "cell_type": "markdown",
   "metadata": {},
   "source": [
    "#### Trait Bound Syntax"
   ]
  },
  {
   "cell_type": "code",
   "execution_count": 33,
   "metadata": {
    "vscode": {
     "languageId": "rust"
    }
   },
   "outputs": [
    {
     "name": "stdout",
     "output_type": "stream",
     "text": [
      "Drawing the circle with radius: 5\n",
      "Drawing the shape...\n"
     ]
    }
   ],
   "source": [
    "fn draw_shape<T: Drawable>(shape: &T) {\n",
    "    shape.draw()\n",
    "}\n",
    "\n",
    "let circle = Circle{radius: 5.0};\n",
    "draw_shape(&circle);\n",
    "\n",
    "let rect = Rectangle{width: 10.0, height: 5.0};\n",
    "draw_shape(&rect);"
   ]
  },
  {
   "cell_type": "markdown",
   "metadata": {},
   "source": [
    "#### Many trait bounds"
   ]
  },
  {
   "cell_type": "code",
   "execution_count": 36,
   "metadata": {
    "vscode": {
     "languageId": "rust"
    }
   },
   "outputs": [],
   "source": [
    "fn use_shape(shape: &(impl Printable + Drawable)) {\n",
    "    shape.print();\n",
    "    shape.draw();\n",
    "}"
   ]
  },
  {
   "cell_type": "code",
   "execution_count": 37,
   "metadata": {
    "vscode": {
     "languageId": "rust"
    }
   },
   "outputs": [],
   "source": [
    "fn use_shape<T: Printable + Drawable>(shape: &T) {\n",
    "    shape.print();\n",
    "    shape.draw();\n",
    "}"
   ]
  },
  {
   "cell_type": "markdown",
   "metadata": {},
   "source": [
    "#### Clearer Trait Bounds with where Clauses"
   ]
  },
  {
   "cell_type": "code",
   "execution_count": 39,
   "metadata": {
    "vscode": {
     "languageId": "rust"
    }
   },
   "outputs": [],
   "source": [
    "fn some_function<T: Printable + Clone, U: Drawable + Clone>(t: &T, u: &U) {\n",
    "    t.print();\n",
    "    u.draw();\n",
    "}"
   ]
  },
  {
   "cell_type": "code",
   "execution_count": 40,
   "metadata": {
    "vscode": {
     "languageId": "rust"
    }
   },
   "outputs": [],
   "source": [
    "fn some_function<T, U>(t: &T, u: &U)\n",
    "where \n",
    "    T: Printable + Clone,\n",
    "    U: Drawable + Clone,\n",
    "{\n",
    "    t.print();\n",
    "    u.draw();\n",
    "}"
   ]
  },
  {
   "cell_type": "markdown",
   "metadata": {},
   "source": [
    "### Returning Types that Implement Traits"
   ]
  },
  {
   "cell_type": "code",
   "execution_count": 53,
   "metadata": {
    "vscode": {
     "languageId": "rust"
    }
   },
   "outputs": [],
   "source": [
    "fn create_drawable() -> Box<dyn Drawable> {\n",
    "    Box::new(Circle{radius: 5.0})\n",
    "}\n",
    "\n",
    "let shape: Box<dyn Drawable> = create_drawable();"
   ]
  },
  {
   "cell_type": "markdown",
   "metadata": {},
   "source": [
    "## Generics"
   ]
  },
  {
   "cell_type": "markdown",
   "metadata": {},
   "source": [
    "### Generic Function"
   ]
  },
  {
   "cell_type": "code",
   "execution_count": 18,
   "metadata": {
    "vscode": {
     "languageId": "rust"
    }
   },
   "outputs": [],
   "source": [
    "fn min<T: Ord>(a: T, b: T) -> T {\n",
    "    if a < b {\n",
    "        a\n",
    "    } else {\n",
    "        b\n",
    "    }\n",
    "}"
   ]
  },
  {
   "cell_type": "code",
   "execution_count": 19,
   "metadata": {
    "vscode": {
     "languageId": "rust"
    }
   },
   "outputs": [
    {
     "data": {
      "text/plain": [
       "1"
      ]
     },
     "execution_count": 19,
     "metadata": {},
     "output_type": "execute_result"
    }
   ],
   "source": [
    "min(1, 2)"
   ]
  },
  {
   "cell_type": "code",
   "execution_count": 20,
   "metadata": {
    "vscode": {
     "languageId": "rust"
    }
   },
   "outputs": [
    {
     "data": {
      "text/plain": [
       "\"hello\""
      ]
     },
     "execution_count": 20,
     "metadata": {},
     "output_type": "execute_result"
    }
   ],
   "source": [
    "min(\"hello\", \"world\")"
   ]
  },
  {
   "cell_type": "markdown",
   "metadata": {},
   "source": [
    "### Generic Structure"
   ]
  },
  {
   "cell_type": "code",
   "execution_count": 22,
   "metadata": {
    "vscode": {
     "languageId": "rust"
    }
   },
   "outputs": [
    {
     "name": "stdout",
     "output_type": "stream",
     "text": [
      "Popped: 3\n",
      "Popped: 2\n",
      "Popped: 1\n"
     ]
    },
    {
     "data": {
      "text/plain": [
       "()"
      ]
     },
     "execution_count": 22,
     "metadata": {},
     "output_type": "execute_result"
    }
   ],
   "source": [
    "struct Stack<T> {\n",
    "    items: Vec<T>\n",
    "}\n",
    "\n",
    "impl<T> Stack<T> {\n",
    "    fn push(&mut self, item: T) {\n",
    "        self.items.push(item);\n",
    "    }\n",
    "\n",
    "    fn pop(&mut self) -> Option<T> {\n",
    "        self.items.pop()\n",
    "    }\n",
    "}\n",
    "\n",
    "fn main() {\n",
    "    let mut stack = Stack{items: Vec::new()};\n",
    "    stack.push(1);\n",
    "    stack.push(2);\n",
    "    stack.push(3);\n",
    "\n",
    "    while let Some(item) = stack.pop() {\n",
    "        println!(\"Popped: {}\", item);\n",
    "    }\n",
    "}\n",
    "\n",
    "main()"
   ]
  }
 ],
 "metadata": {
  "kernelspec": {
   "display_name": "Rust",
   "language": "rust",
   "name": "rust"
  },
  "language_info": {
   "codemirror_mode": "rust",
   "file_extension": ".rs",
   "mimetype": "text/rust",
   "name": "Rust",
   "pygment_lexer": "rust",
   "version": ""
  }
 },
 "nbformat": 4,
 "nbformat_minor": 2
}
