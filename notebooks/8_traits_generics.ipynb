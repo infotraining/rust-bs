{
 "cells": [
  {
   "cell_type": "markdown",
   "metadata": {},
   "source": [
    "# Traits and Generics"
   ]
  },
  {
   "cell_type": "markdown",
   "metadata": {},
   "source": [
    "## Traits"
   ]
  },
  {
   "cell_type": "markdown",
   "metadata": {},
   "source": [
    "* Traits are Rust’s take on interfaces or abstract base classes"
   ]
  },
  {
   "cell_type": "code",
   "execution_count": 9,
   "metadata": {
    "vscode": {
     "languageId": "rust"
    }
   },
   "outputs": [],
   "source": [
    "trait Printable {\n",
    "    fn print(&self);\n",
    "}"
   ]
  },
  {
   "cell_type": "markdown",
   "metadata": {},
   "source": [
    "### Implementing Traits"
   ]
  },
  {
   "cell_type": "code",
   "execution_count": 11,
   "metadata": {
    "vscode": {
     "languageId": "rust"
    }
   },
   "outputs": [
    {
     "name": "stdout",
     "output_type": "stream",
     "text": [
      "Number: 10\n",
      "Float: 5.5\n"
     ]
    }
   ],
   "source": [
    "struct Number {\n",
    "    value: i32,\n",
    "}\n",
    "\n",
    "impl Printable for Number {\n",
    "    fn print(&self) {\n",
    "        println!(\"Number: {}\", self.value);\n",
    "    }\n",
    "}\n",
    "\n",
    "impl Printable for f64 {\n",
    "    fn print(&self) {\n",
    "        println!(\"Float: {}\", self);\n",
    "    }\n",
    "}\n",
    "\n",
    "fn main() {\n",
    "    let a = Number { value: 10 };\n",
    "    let b = 5.5;\n",
    "\n",
    "    a.print();\n",
    "    b.print();\n",
    "}\n",
    "\n",
    "main();"
   ]
  },
  {
   "cell_type": "code",
   "execution_count": 25,
   "metadata": {
    "vscode": {
     "languageId": "rust"
    }
   },
   "outputs": [],
   "source": [
    "trait Shape {\n",
    "    fn move_by(&mut self, dx: i32, dy: i32);\n",
    "    fn area(&self) -> f64;\n",
    "}\n",
    "\n",
    "#[derive(Debug)]\n",
    "struct Point {\n",
    "    x: i32,\n",
    "    y: i32\n",
    "}\n",
    "\n",
    "#[derive(Debug)]\n",
    "struct Circle {\n",
    "    position: Point,\n",
    "    radius: u32\n",
    "}\n",
    "\n",
    "#[derive(Debug)]\n",
    "struct Rectangle {\n",
    "    position: Point,\n",
    "    width: u32,\n",
    "    height: u32\n",
    "}\n",
    "\n",
    "impl Shape for Circle {\n",
    "\n",
    "    fn move_by(&mut self, dx: i32, dy: i32) {\n",
    "        self.position.x += dx;\n",
    "        self.position.y += dy;\n",
    "    }\n",
    "\n",
    "    fn area(&self) -> f64 {\n",
    "        std::f64::consts::PI * (self.radius as f64) * (self.radius as f64)\n",
    "    }\n",
    "}\n",
    "\n",
    "impl Shape for Rectangle {\n",
    "\n",
    "    fn move_by(&mut self, dx: i32, dy: i32) {\n",
    "        self.position.x += dx;\n",
    "        self.position.y += dy;\n",
    "    }\n",
    "\n",
    "    fn area(&self) -> f64 {\n",
    "        (self.width * self.height) as f64\n",
    "    }\n",
    "}"
   ]
  },
  {
   "cell_type": "markdown",
   "metadata": {},
   "source": [
    "### Default Trait Behavior"
   ]
  },
  {
   "cell_type": "code",
   "execution_count": 26,
   "metadata": {
    "vscode": {
     "languageId": "rust"
    }
   },
   "outputs": [],
   "source": [
    "trait Drawable {\n",
    "    fn draw(&self) {\n",
    "        println!(\"Drawing the shape...\");\n",
    "    }\n",
    "}\n",
    "\n",
    "impl Drawable for Circle {\n",
    "    fn draw(&self) {\n",
    "        println!(\"Drawing the circle at {:?} with radius: {}\", self.position, self.radius);\n",
    "    }\n",
    "}\n",
    "\n",
    "impl Drawable for Rectangle {\n",
    "    fn draw(&self) {\n",
    "          println!(\"Drawing the rectangle at {:?} with width: {} and height: {}\", self.position, self.width, self.height);\n",
    "  }\n",
    "}"
   ]
  },
  {
   "cell_type": "markdown",
   "metadata": {},
   "source": [
    "### Trait Bounds\n",
    "\n",
    "#### `impl Trait` Syntax"
   ]
  },
  {
   "cell_type": "code",
   "execution_count": 27,
   "metadata": {
    "vscode": {
     "languageId": "rust"
    }
   },
   "outputs": [
    {
     "name": "stdout",
     "output_type": "stream",
     "text": [
      "Drawing the circle at Point { x: 10, y: 20 } with radius: 5\n",
      "Drawing the rectangle at Point { x: 40, y: 50 } with width: 10 and height: 5\n"
     ]
    }
   ],
   "source": [
    "fn draw_shape(shape: &impl Drawable) {\n",
    "    shape.draw()\n",
    "}\n",
    "\n",
    "let circle = Circle{position: Point{x: 10, y: 20}, radius: 5};\n",
    "draw_shape(&circle);\n",
    "\n",
    "let rect = Rectangle{position: Point{x: 40, y: 50}, width: 10, height: 5};\n",
    "draw_shape(&rect);"
   ]
  },
  {
   "cell_type": "markdown",
   "metadata": {},
   "source": [
    "#### Trait Bound Syntax"
   ]
  },
  {
   "cell_type": "code",
   "execution_count": 29,
   "metadata": {
    "vscode": {
     "languageId": "rust"
    }
   },
   "outputs": [
    {
     "name": "stdout",
     "output_type": "stream",
     "text": [
      "Drawing the circle at Point { x: 10, y: 20 } with radius: 5\n",
      "Drawing the rectangle at Point { x: 40, y: 50 } with width: 10 and height: 5\n"
     ]
    }
   ],
   "source": [
    "fn draw_shape<T: Drawable>(shape: &T) {\n",
    "    shape.draw()\n",
    "}\n",
    "\n",
    "draw_shape(&circle);\n",
    "draw_shape(&rect);"
   ]
  },
  {
   "cell_type": "markdown",
   "metadata": {},
   "source": [
    "#### Many trait bounds"
   ]
  },
  {
   "cell_type": "code",
   "execution_count": 32,
   "metadata": {
    "vscode": {
     "languageId": "rust"
    }
   },
   "outputs": [],
   "source": [
    "fn use_shape(shape: &mut (impl Shape + Drawable)) {\n",
    "    shape.move_by(10, 15);\n",
    "    shape.draw();\n",
    "}"
   ]
  },
  {
   "cell_type": "code",
   "execution_count": 34,
   "metadata": {
    "vscode": {
     "languageId": "rust"
    }
   },
   "outputs": [],
   "source": [
    "fn use_shape<T: Shape + Drawable>(shape: &mut T) {\n",
    "    shape.move_by(10, 15);\n",
    "    shape.draw();\n",
    "}"
   ]
  },
  {
   "cell_type": "markdown",
   "metadata": {},
   "source": [
    "#### Clearer Trait Bounds with where Clauses"
   ]
  },
  {
   "cell_type": "code",
   "execution_count": 35,
   "metadata": {
    "vscode": {
     "languageId": "rust"
    }
   },
   "outputs": [],
   "source": [
    "fn some_function<T: Printable + Clone, U: Drawable + Clone>(t: &T, u: &U) {\n",
    "    t.print();\n",
    "    u.draw();\n",
    "}"
   ]
  },
  {
   "cell_type": "code",
   "execution_count": 36,
   "metadata": {
    "vscode": {
     "languageId": "rust"
    }
   },
   "outputs": [],
   "source": [
    "fn some_function<T, U>(t: &T, u: &U)\n",
    "where \n",
    "    T: Printable + Clone,\n",
    "    U: Drawable + Clone,\n",
    "{\n",
    "    t.print();\n",
    "    u.draw();\n",
    "}"
   ]
  },
  {
   "cell_type": "markdown",
   "metadata": {},
   "source": [
    "### Returning Types that Implement Traits"
   ]
  },
  {
   "cell_type": "code",
   "execution_count": 40,
   "metadata": {
    "vscode": {
     "languageId": "rust"
    }
   },
   "outputs": [
    {
     "name": "stdout",
     "output_type": "stream",
     "text": [
      "Drawing the circle at Point { x: 10, y: 20 } with radius: 5\n"
     ]
    }
   ],
   "source": [
    "fn create_drawable() -> Box<dyn Drawable> {\n",
    "    Box::new(Circle{position: Point{x: 10, y: 20}, radius: 5})\n",
    "}\n",
    "\n",
    "let shape: Box<dyn Drawable> = create_drawable();\n",
    "shape.draw();"
   ]
  },
  {
   "cell_type": "markdown",
   "metadata": {},
   "source": [
    "### Self in Traits\n",
    "\n",
    "* A trait can use the keyword `Self` as a type"
   ]
  },
  {
   "cell_type": "code",
   "execution_count": 2,
   "metadata": {
    "vscode": {
     "languageId": "rust"
    }
   },
   "outputs": [],
   "source": [
    "trait Cloneable {\n",
    "    fn clone(&self) -> Self; // the type of x.clone() is the same as the type of x, whatever that might be\n",
    "}"
   ]
  },
  {
   "cell_type": "markdown",
   "metadata": {},
   "source": [
    "### Trait Objects"
   ]
  },
  {
   "cell_type": "code",
   "execution_count": null,
   "metadata": {
    "vscode": {
     "languageId": "rust"
    }
   },
   "outputs": [],
   "source": [
    "let circle = Circle{position: Point{x: 10, y: 20}, radius: 5};\n",
    "\n",
    "let shape: dyn Shape = circle; // ERROR: Shape does not have a constant size"
   ]
  },
  {
   "cell_type": "markdown",
   "metadata": {},
   "source": [
    "#### References to Trait"
   ]
  },
  {
   "cell_type": "code",
   "execution_count": 52,
   "metadata": {
    "vscode": {
     "languageId": "rust"
    }
   },
   "outputs": [
    {
     "name": "stdout",
     "output_type": "stream",
     "text": [
      "Shape area: 78.54\n"
     ]
    }
   ],
   "source": [
    "fn main() {\n",
    "    let circle = Circle{position: Point{x: 10, y: 20}, radius: 5};\n",
    "\n",
    "    let shape: & dyn Shape = &circle; // OK - shape is trait object\n",
    "\n",
    "    println!(\"Shape area: {:.2}\", shape.area());\n",
    "}\n",
    "\n",
    "main();"
   ]
  },
  {
   "cell_type": "markdown",
   "metadata": {},
   "source": [
    "* A reference to trait type, like `shape` is called **trait object**. Like any other reference, a trait object points to some value, it has a lifetime, and it can be either mut or shared.\n",
    "* In memory, a trait object is a *fat pointer* consisting of a pointer to the value, plus a pointer to a table representing that value’s type (virtual table).\n",
    "\n"
   ]
  },
  {
   "cell_type": "markdown",
   "metadata": {},
   "source": [
    "#### Boxes to Trait"
   ]
  },
  {
   "cell_type": "code",
   "execution_count": 55,
   "metadata": {
    "vscode": {
     "languageId": "rust"
    }
   },
   "outputs": [
    {
     "name": "stdout",
     "output_type": "stream",
     "text": [
      "Shape area: 78.54\n"
     ]
    }
   ],
   "source": [
    "let box_circle: Box<Circle> = Box::new(Circle{position: Point{x: 10, y: 20}, radius: 5});\n",
    "\n",
    "let shape: Box<dyn Shape> = box_circle; // OK - Box<dyn Shape> is trait object\n",
    "\n",
    "println!(\"Shape area: {:.2}\", shape.area());"
   ]
  },
  {
   "cell_type": "markdown",
   "metadata": {},
   "source": [
    "## Dynamic Polymorphism in Rust"
   ]
  },
  {
   "cell_type": "code",
   "execution_count": 71,
   "metadata": {
    "vscode": {
     "languageId": "rust"
    }
   },
   "outputs": [
    {
     "name": "stdout",
     "output_type": "stream",
     "text": [
      "Shape area: 78.54\n",
      "Shape area: 50.00\n",
      "Shape area: 49.00\n"
     ]
    }
   ],
   "source": [
    "#[derive(Debug)]\n",
    "struct Square {\n",
    "    position: Point,\n",
    "    side: u32\n",
    "}   \n",
    "\n",
    "impl Shape for Square {\n",
    "\n",
    "    fn move_by(&mut self, dx: i32, dy: i32) {\n",
    "        self.position.x += dx;\n",
    "        self.position.y += dy;\n",
    "    }\n",
    "\n",
    "    fn area(&self) -> f64 {\n",
    "        (self.side * self.side) as f64\n",
    "    }\n",
    "}\n",
    "\n",
    "impl Drawable for Square {\n",
    "    fn draw(&self) {\n",
    "        println!(\"Drawing the square at {:?} with side: {}\", self.position, self.side);\n",
    "    }\n",
    "}\n",
    "\n",
    "fn main() {\n",
    "    let mut shapes: Vec<Box<dyn Shape>> = vec![\n",
    "        Box::new(Circle{position: Point{x: 10, y: 20}, radius: 5}),\n",
    "        Box::new(Rectangle{position: Point{x: 40, y: 50}, width: 10, height: 5}),\n",
    "        Box::new(Square{position: Point{x: 70, y: 80}, side: 7})\n",
    "    ];\n",
    "\n",
    "    for shape in shapes.iter_mut() {\n",
    "        shape.move_by(5, 5);\n",
    "        println!(\"Shape area: {:.2}\", shape.area());\n",
    "    }\n",
    "}\n",
    "\n",
    "main();"
   ]
  },
  {
   "cell_type": "markdown",
   "metadata": {},
   "source": [
    "### Combining Traits"
   ]
  },
  {
   "cell_type": "code",
   "execution_count": 72,
   "metadata": {
    "vscode": {
     "languageId": "rust"
    }
   },
   "outputs": [
    {
     "name": "stdout",
     "output_type": "stream",
     "text": [
      "Drawing the circle at Point { x: 10, y: 20 } with radius: 5\n",
      "Drawing the circle at Point { x: 20, y: 35 } with radius: 5\n",
      "Drawing the rectangle at Point { x: 40, y: 50 } with width: 10 and height: 5\n",
      "Drawing the rectangle at Point { x: 50, y: 65 } with width: 10 and height: 5\n"
     ]
    }
   ],
   "source": [
    "trait DrawableShape: Shape + Drawable {} // Trait that combines Shape and Drawable\n",
    "\n",
    "impl<T> DrawableShape for T where T: Shape + Drawable {} // Implement DrawableShape for any type that implements Shape and Drawable\n",
    "\n",
    "fn use_shape(shape: &mut dyn DrawableShape) {\n",
    "    shape.draw();\n",
    "    shape.move_by(10, 15);\n",
    "    shape.draw();\n",
    "}\n",
    "\n",
    "fn main() {\n",
    "    let mut circle = Circle{position: Point{x: 10, y: 20}, radius: 5};\n",
    "    use_shape(&mut circle);\n",
    "\n",
    "    let mut rect = Rectangle{position: Point{x: 40, y: 50}, width: 10, height: 5};\n",
    "    use_shape(&mut rect);\n",
    "}\n",
    "\n",
    "main();"
   ]
  },
  {
   "cell_type": "markdown",
   "metadata": {},
   "source": [
    "## Associated Types"
   ]
  },
  {
   "cell_type": "code",
   "execution_count": 15,
   "metadata": {
    "vscode": {
     "languageId": "rust"
    }
   },
   "outputs": [
    {
     "name": "stdout",
     "output_type": "stream",
     "text": [
      "Counter value: 0\n",
      "Counter value: 1\n",
      "Counter value: 2\n",
      "Counter value: 3\n",
      "Counter value: 4\n",
      "Collected numbers: [0, 1, 2, 3, 4]\n"
     ]
    }
   ],
   "source": [
    "trait Iterator {\n",
    "    type Item; // associated type\n",
    "    fn next(&mut self) -> Option<Self::Item>;\n",
    "}\n",
    "\n",
    "struct Counter {\n",
    "    value: u32,\n",
    "    sentinel: u32\n",
    "}\n",
    "\n",
    "impl Counter {\n",
    "    fn new(sentinel: u32) -> Counter {\n",
    "        Counter{value: 0, sentinel}\n",
    "    }\n",
    "}\n",
    "\n",
    "impl Iterator for Counter {\n",
    "    type Item = u32;\n",
    "\n",
    "    fn next(&mut self) -> Option<Self::Item> {\n",
    "        if self.value < self.sentinel {\n",
    "            let result = self.value;\n",
    "            self.value += 1;\n",
    "            Some(result)\n",
    "        } else {\n",
    "            None\n",
    "        }\n",
    "    }\n",
    "}\n",
    "\n",
    "fn collect_into_vector<I: Iterator>(mut iter: I) -> Vec<I::Item>\n",
    "{\n",
    "    let mut results = Vec::new();\n",
    "\n",
    "    while let Some(value) = iter.next() {\n",
    "        results.push(value);\n",
    "    }\n",
    "\n",
    "    results\n",
    "}\n",
    "\n",
    "fn main() {\n",
    "    let mut counter = Counter::new(5);\n",
    "\n",
    "    while let Some(value) = counter.next() {\n",
    "        println!(\"Counter value: {}\", value);\n",
    "    }\n",
    "\n",
    "    let numbers = collect_into_vector(Counter::new(5));\n",
    "    println!(\"Collected numbers: {:?}\", numbers);\n",
    "}\n",
    "\n",
    "main();"
   ]
  },
  {
   "cell_type": "markdown",
   "metadata": {},
   "source": [
    "## Generics"
   ]
  },
  {
   "cell_type": "markdown",
   "metadata": {},
   "source": [
    "### Generic Function"
   ]
  },
  {
   "cell_type": "code",
   "execution_count": 18,
   "metadata": {
    "vscode": {
     "languageId": "rust"
    }
   },
   "outputs": [],
   "source": [
    "fn min<T: Ord>(a: T, b: T) -> T {\n",
    "    if a < b {\n",
    "        a\n",
    "    } else {\n",
    "        b\n",
    "    }\n",
    "}"
   ]
  },
  {
   "cell_type": "code",
   "execution_count": 19,
   "metadata": {
    "vscode": {
     "languageId": "rust"
    }
   },
   "outputs": [
    {
     "data": {
      "text/plain": [
       "1"
      ]
     },
     "execution_count": 19,
     "metadata": {},
     "output_type": "execute_result"
    }
   ],
   "source": [
    "min(1, 2)"
   ]
  },
  {
   "cell_type": "code",
   "execution_count": 20,
   "metadata": {
    "vscode": {
     "languageId": "rust"
    }
   },
   "outputs": [
    {
     "data": {
      "text/plain": [
       "\"hello\""
      ]
     },
     "execution_count": 20,
     "metadata": {},
     "output_type": "execute_result"
    }
   ],
   "source": [
    "min(\"hello\", \"world\")"
   ]
  },
  {
   "cell_type": "markdown",
   "metadata": {},
   "source": [
    "### Generic Structure"
   ]
  },
  {
   "cell_type": "code",
   "execution_count": 73,
   "metadata": {
    "vscode": {
     "languageId": "rust"
    }
   },
   "outputs": [
    {
     "name": "stdout",
     "output_type": "stream",
     "text": [
      "Popped: 3\n",
      "Popped: 2\n",
      "Popped: 1\n"
     ]
    }
   ],
   "source": [
    "struct Stack<T> {\n",
    "    items: Vec<T>\n",
    "}\n",
    "\n",
    "impl<T> Stack<T> {\n",
    "    fn push(&mut self, item: T) {\n",
    "        self.items.push(item);\n",
    "    }\n",
    "\n",
    "    fn pop(&mut self) -> Option<T> {\n",
    "        self.items.pop()\n",
    "    }\n",
    "}\n",
    "\n",
    "fn main() {\n",
    "    let mut stack = Stack{items: Vec::new()};\n",
    "    stack.push(1);\n",
    "    stack.push(2);\n",
    "    stack.push(3);\n",
    "\n",
    "    while let Some(item) = stack.pop() {\n",
    "        println!(\"Popped: {}\", item);\n",
    "    }\n",
    "}\n",
    "\n",
    "main();"
   ]
  }
 ],
 "metadata": {
  "kernelspec": {
   "display_name": "Rust",
   "language": "rust",
   "name": "rust"
  },
  "language_info": {
   "codemirror_mode": "rust",
   "file_extension": ".rs",
   "mimetype": "text/rust",
   "name": "Rust",
   "pygment_lexer": "rust",
   "version": ""
  }
 },
 "nbformat": 4,
 "nbformat_minor": 2
}
