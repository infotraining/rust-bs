{
 "cells": [
  {
   "cell_type": "markdown",
   "metadata": {},
   "source": [
    "# Traits and Generics"
   ]
  },
  {
   "cell_type": "markdown",
   "metadata": {},
   "source": [
    "## Traits"
   ]
  },
  {
   "cell_type": "markdown",
   "metadata": {},
   "source": [
    "* Traits are Rust’s take on interfaces or abstract base classes"
   ]
  },
  {
   "cell_type": "code",
   "execution_count": 2,
   "metadata": {
    "vscode": {
     "languageId": "rust"
    }
   },
   "outputs": [],
   "source": [
    "trait Printable {\n",
    "    fn print(&self);\n",
    "}"
   ]
  },
  {
   "cell_type": "markdown",
   "metadata": {},
   "source": [
    "### Implementing Traits"
   ]
  },
  {
   "cell_type": "code",
   "execution_count": 3,
   "metadata": {
    "vscode": {
     "languageId": "rust"
    }
   },
   "outputs": [],
   "source": [
    "struct Number {\n",
    "    value: i32,\n",
    "}\n",
    "\n",
    "impl Printable for Number {\n",
    "    fn print(&self) {\n",
    "        println!(\"Number: {}\", self.value);\n",
    "    }\n",
    "}"
   ]
  },
  {
   "cell_type": "code",
   "execution_count": 4,
   "metadata": {
    "vscode": {
     "languageId": "rust"
    }
   },
   "outputs": [],
   "source": [
    "struct Circle {\n",
    "    radius: f64\n",
    "}\n",
    "\n",
    "struct Rectangle {\n",
    "    width: f64,\n",
    "    height: f64\n",
    "}\n",
    "\n",
    "impl Printable for Circle {\n",
    "    fn print(&self) {\n",
    "        println!(\"Circle with radius: {}\", self.radius);\n",
    "    }\n",
    "}\n",
    "\n",
    "impl Printable for Rectangle {\n",
    "    fn print(&self) {\n",
    "        println!(\"Rectangle with width: {} and height: {}\", self.width, self.height);\n",
    "    }\n",
    "}"
   ]
  },
  {
   "cell_type": "markdown",
   "metadata": {},
   "source": [
    "### Default Trait Behavior"
   ]
  },
  {
   "cell_type": "code",
   "execution_count": 5,
   "metadata": {
    "vscode": {
     "languageId": "rust"
    }
   },
   "outputs": [],
   "source": [
    "trait Drawable {\n",
    "    fn draw(&self) {\n",
    "        println!(\"Drawing the shape...\");\n",
    "    }\n",
    "}\n",
    "\n",
    "impl Drawable for Circle {\n",
    "    fn draw(&self) {\n",
    "        println!(\"Drawing the circle with radius: {}\", self.radius);\n",
    "    }\n",
    "}\n",
    "\n",
    "impl Drawable for Rectangle {\n",
    "    fn draw(&self) {\n",
    "        println!(\"Drawing the rectangle with width: {} and height: {}\", self.width, self.height);\n",
    "    }\n",
    "}"
   ]
  },
  {
   "cell_type": "markdown",
   "metadata": {},
   "source": [
    "### Trait Bounds"
   ]
  },
  {
   "cell_type": "code",
   "execution_count": 9,
   "metadata": {
    "vscode": {
     "languageId": "rust"
    }
   },
   "outputs": [
    {
     "name": "stdout",
     "output_type": "stream",
     "text": [
      "Drawing the circle with radius: 5\n",
      "Drawing the rectangle with width: 10 and height: 5\n"
     ]
    }
   ],
   "source": [
    "fn draw_shape(shape: impl Drawable) {\n",
    "    shape.draw()\n",
    "}\n",
    "\n",
    "let circle = Circle{radius: 5.0};\n",
    "draw_shape(circle);\n",
    "\n",
    "let rect = Rectangle{width: 10.0, height: 5.0};\n",
    "draw_shape(rect);"
   ]
  },
  {
   "cell_type": "markdown",
   "metadata": {},
   "source": [
    "### Expanding with Generics"
   ]
  },
  {
   "cell_type": "code",
   "execution_count": 14,
   "metadata": {
    "vscode": {
     "languageId": "rust"
    }
   },
   "outputs": [],
   "source": [
    "fn draw_shape<T: Drawable>(shape: T) {\n",
    "    print!(\"draw_shape<T>... \");\n",
    "    shape.draw()\n",
    "}"
   ]
  },
  {
   "cell_type": "code",
   "execution_count": 13,
   "metadata": {
    "vscode": {
     "languageId": "rust"
    }
   },
   "outputs": [
    {
     "name": "stdout",
     "output_type": "stream",
     "text": [
      "draw_shape<T>...Drawing the circle with radius: 15\n",
      "draw_shape<T>...Drawing the rectangle with width: 10 and height: 5\n"
     ]
    }
   ],
   "source": [
    "let circle = Circle{radius: 15.0};\n",
    "draw_shape(circle);\n",
    "\n",
    "let rect = Rectangle{width: 10.0, height: 5.0};\n",
    "draw_shape(rect);"
   ]
  }
 ],
 "metadata": {
  "kernelspec": {
   "display_name": "Rust",
   "language": "rust",
   "name": "rust"
  },
  "language_info": {
   "codemirror_mode": "rust",
   "file_extension": ".rs",
   "mimetype": "text/rust",
   "name": "Rust",
   "pygment_lexer": "rust",
   "version": ""
  }
 },
 "nbformat": 4,
 "nbformat_minor": 2
}
